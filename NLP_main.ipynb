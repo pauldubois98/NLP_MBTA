{
 "cells": [
  {
   "cell_type": "markdown",
   "metadata": {},
   "source": [
    "### importing libraries"
   ]
  },
  {
   "cell_type": "code",
   "execution_count": 1,
   "metadata": {
    "collapsed": true
   },
   "outputs": [],
   "source": [
    "import pandas as pd\n",
    "from pandas import DataFrame\n",
    "import nltk\n",
    "from nltk.corpus import wordnet\n",
    "from nltk.metrics.distance import edit_distance\n",
    "import re\n",
    "import numpy as np"
   ]
  },
  {
   "cell_type": "markdown",
   "metadata": {},
   "source": [
    "### getting lists of words"
   ]
  },
  {
   "cell_type": "code",
   "execution_count": 2,
   "metadata": {},
   "outputs": [
    {
     "data": {
      "text/plain": [
       "['adobe', 'brick', 'matting', 'sod', 'stone', 'timber', 'wattle', 'aluminum']"
      ]
     },
     "execution_count": 2,
     "metadata": {},
     "output_type": "execute_result"
    }
   ],
   "source": [
    "file = open('materials.txt', 'r')\n",
    "materials = file.read().split(',')\n",
    "file.close()\n",
    "materials[:8]"
   ]
  },
  {
   "cell_type": "code",
   "execution_count": 3,
   "metadata": {},
   "outputs": [
    {
     "data": {
      "text/plain": [
       "['aerodynamic', 'angular', 'flat', 'asymmetrical', 'bent', 'bulbous', 'chunky']"
      ]
     },
     "execution_count": 3,
     "metadata": {},
     "output_type": "execute_result"
    }
   ],
   "source": [
    "file = open('shapes.txt', 'r')\n",
    "shapes = file.read().split('\\n')\n",
    "file.close()\n",
    "shapes[:7]"
   ]
  },
  {
   "cell_type": "code",
   "execution_count": 4,
   "metadata": {},
   "outputs": [
    {
     "data": {
      "text/plain": [
       "['black', 'blue', 'cyan', 'gray', 'green', 'grey', 'magenta', 'red', 'white']"
      ]
     },
     "execution_count": 4,
     "metadata": {},
     "output_type": "execute_result"
    }
   ],
   "source": [
    "file = open('colors.txt', 'r')\n",
    "colors = file.read().split('\\n')\n",
    "file.close()\n",
    "colors[:9]"
   ]
  },
  {
   "cell_type": "code",
   "execution_count": 5,
   "metadata": {},
   "outputs": [
    {
     "data": {
      "text/plain": [
       "['abundant', 'jumbo', 'puny', 'big', 'boned', 'large', 'scrawny', 'chubby']"
      ]
     },
     "execution_count": 5,
     "metadata": {},
     "output_type": "execute_result"
    }
   ],
   "source": [
    "file = open('sizes.txt', 'r')\n",
    "sizes = file.read().split('\\n')\n",
    "file.close()\n",
    "sizes[:8]"
   ]
  },
  {
   "cell_type": "markdown",
   "metadata": {},
   "source": [
    "### open the data"
   ]
  },
  {
   "cell_type": "code",
   "execution_count": 6,
   "metadata": {
    "scrolled": true
   },
   "outputs": [
    {
     "data": {
      "text/html": [
       "<div>\n",
       "<table border=\"1\" class=\"dataframe\">\n",
       "  <thead>\n",
       "    <tr style=\"text-align: right;\">\n",
       "      <th></th>\n",
       "      <th>Unnamed: 0</th>\n",
       "      <th>mbta_part_number</th>\n",
       "      <th>description</th>\n",
       "      <th>mfg</th>\n",
       "      <th>mfg_itm_id</th>\n",
       "    </tr>\n",
       "  </thead>\n",
       "  <tbody>\n",
       "    <tr>\n",
       "      <th>0</th>\n",
       "      <td>0</td>\n",
       "      <td>00118006</td>\n",
       "      <td>STEEL-5/16\" ROUND POLISHED DRILL ROD</td>\n",
       "      <td>HEATHCOTE</td>\n",
       "      <td>GRADE O-1</td>\n",
       "    </tr>\n",
       "    <tr>\n",
       "      <th>1</th>\n",
       "      <td>1</td>\n",
       "      <td>00118009</td>\n",
       "      <td>DRILL ROD - 1/2\" ROUND POLISHED STEEL</td>\n",
       "      <td>GENERIC</td>\n",
       "      <td>GRADE O-1</td>\n",
       "    </tr>\n",
       "    <tr>\n",
       "      <th>2</th>\n",
       "      <td>2</td>\n",
       "      <td>00170003</td>\n",
       "      <td>ROD-WELDING-CARBON STEEL 1/8\" AWS-A5.18-ER70S-2</td>\n",
       "      <td>WELDERS</td>\n",
       "      <td>OX WELD 7</td>\n",
       "    </tr>\n",
       "    <tr>\n",
       "      <th>3</th>\n",
       "      <td>3</td>\n",
       "      <td>00170004</td>\n",
       "      <td>ROD,EXTRACT ALLOY 3/ 32 (5LB. PACKAGE)</td>\n",
       "      <td>X-ERGON</td>\n",
       "      <td>L004-50000</td>\n",
       "    </tr>\n",
       "    <tr>\n",
       "      <th>4</th>\n",
       "      <td>4</td>\n",
       "      <td>00170005</td>\n",
       "      <td>ROD, EXTRACT ALLOY 1 /8 (5 LB. PACKAGE)</td>\n",
       "      <td>X-ERGON</td>\n",
       "      <td>L004-4-0000</td>\n",
       "    </tr>\n",
       "    <tr>\n",
       "      <th>5</th>\n",
       "      <td>5</td>\n",
       "      <td>00170006</td>\n",
       "      <td>WIRE WELDING - 1/8 X .660 NH TM AC/DC ELECTRODE</td>\n",
       "      <td>ALL WELD</td>\n",
       "      <td>#66XHD</td>\n",
       "    </tr>\n",
       "    <tr>\n",
       "      <th>6</th>\n",
       "      <td>6</td>\n",
       "      <td>00170009</td>\n",
       "      <td>ROD-WELDING-MILD STEEL 1/8\" AWS-E6011</td>\n",
       "      <td>COLONY</td>\n",
       "      <td>1/8\"</td>\n",
       "    </tr>\n",
       "    <tr>\n",
       "      <th>7</th>\n",
       "      <td>7</td>\n",
       "      <td>00170010</td>\n",
       "      <td>ROD-WELDING, MILD STEEL 3/32\" AWS-A5.1-E6011</td>\n",
       "      <td>ALL WELD</td>\n",
       "      <td>#230 ACP 611</td>\n",
       "    </tr>\n",
       "    <tr>\n",
       "      <th>8</th>\n",
       "      <td>8</td>\n",
       "      <td>00170011</td>\n",
       "      <td>ROD-WELDING-CARBON STEEL 3/32 \" AWS-A5.1 - E-7018</td>\n",
       "      <td>DA-VIN CO</td>\n",
       "      <td>MS1120</td>\n",
       "    </tr>\n",
       "    <tr>\n",
       "      <th>9</th>\n",
       "      <td>9</td>\n",
       "      <td>00170012</td>\n",
       "      <td>ROD-WELDING,LOW HY-S TEEL 5/32\" AWS-A5.5 E8016-C1</td>\n",
       "      <td>DA-VIN CO</td>\n",
       "      <td>5/32-MS1140</td>\n",
       "    </tr>\n",
       "    <tr>\n",
       "      <th>10</th>\n",
       "      <td>10</td>\n",
       "      <td>00170035</td>\n",
       "      <td>ROD-WELDING, COPPER 1/8\" AWS-A5.27-RCUZN-B</td>\n",
       "      <td>EUTECTIC</td>\n",
       "      <td>NO 146 FC</td>\n",
       "    </tr>\n",
       "    <tr>\n",
       "      <th>11</th>\n",
       "      <td>11</td>\n",
       "      <td>00170046</td>\n",
       "      <td>ROD-WELDING-CAST IRON 1/8\" AWS-A5.15-ENIFE-15</td>\n",
       "      <td>CERTANIUM</td>\n",
       "      <td>#889 NO.12550</td>\n",
       "    </tr>\n",
       "    <tr>\n",
       "      <th>12</th>\n",
       "      <td>12</td>\n",
       "      <td>00170046</td>\n",
       "      <td>ROD-WELDING-CAST IRON 1/8\" AWS-A5.15-ENIFE-15</td>\n",
       "      <td>COLONY INC</td>\n",
       "      <td>MG 289</td>\n",
       "    </tr>\n",
       "    <tr>\n",
       "      <th>13</th>\n",
       "      <td>13</td>\n",
       "      <td>00170046</td>\n",
       "      <td>ROD-WELDING-CAST IRON 1/8\" AWS-A5.15-ENIFE-15</td>\n",
       "      <td>DA-VIN CO</td>\n",
       "      <td>CI-3100</td>\n",
       "    </tr>\n",
       "    <tr>\n",
       "      <th>14</th>\n",
       "      <td>14</td>\n",
       "      <td>00170046</td>\n",
       "      <td>ROD-WELDING-CAST IRON 1/8\" AWS-A5.15-ENIFE-15</td>\n",
       "      <td>EUTECTIC</td>\n",
       "      <td>AC58110</td>\n",
       "    </tr>\n",
       "    <tr>\n",
       "      <th>15</th>\n",
       "      <td>15</td>\n",
       "      <td>00170050</td>\n",
       "      <td>ELECTRODE-STAIN STEEL 1/8\" AWS-A5.15-EN1CRFE-5</td>\n",
       "      <td>ALLSTATE</td>\n",
       "      <td>275</td>\n",
       "    </tr>\n",
       "    <tr>\n",
       "      <th>16</th>\n",
       "      <td>16</td>\n",
       "      <td>00170050</td>\n",
       "      <td>ELECTRODE-STAIN STEEL 1/8\" AWS-A5.15-EN1CRFE-5</td>\n",
       "      <td>CERTANIUM</td>\n",
       "      <td>707 NO. 12330</td>\n",
       "    </tr>\n",
       "    <tr>\n",
       "      <th>17</th>\n",
       "      <td>17</td>\n",
       "      <td>00170050</td>\n",
       "      <td>ELECTRODE-STAIN STEEL 1/8\" AWS-A5.15-EN1CRFE-5</td>\n",
       "      <td>COLONY INC</td>\n",
       "      <td>MG 600</td>\n",
       "    </tr>\n",
       "    <tr>\n",
       "      <th>18</th>\n",
       "      <td>18</td>\n",
       "      <td>00170050</td>\n",
       "      <td>ELECTRODE-STAIN STEEL 1/8\" AWS-A5.15-EN1CRFE-5</td>\n",
       "      <td>EUTECTIC</td>\n",
       "      <td>AS50110</td>\n",
       "    </tr>\n",
       "    <tr>\n",
       "      <th>19</th>\n",
       "      <td>19</td>\n",
       "      <td>00170051</td>\n",
       "      <td>ELECTRODE-STAIN STEEL 3/32\" AWS-A5.4-E312-16</td>\n",
       "      <td>ALLOY</td>\n",
       "      <td>312</td>\n",
       "    </tr>\n",
       "    <tr>\n",
       "      <th>20</th>\n",
       "      <td>20</td>\n",
       "      <td>00170053</td>\n",
       "      <td>ROD 5/32 STEEL WELDING HOBART</td>\n",
       "      <td>GENERIC</td>\n",
       "      <td>6010</td>\n",
       "    </tr>\n",
       "    <tr>\n",
       "      <th>21</th>\n",
       "      <td>21</td>\n",
       "      <td>00170054</td>\n",
       "      <td>ROD-WELDING-MILD STEEL 1/8\" AWS-A5.1 E6010</td>\n",
       "      <td>WELDERS</td>\n",
       "      <td>6010</td>\n",
       "    </tr>\n",
       "    <tr>\n",
       "      <th>22</th>\n",
       "      <td>22</td>\n",
       "      <td>00170057</td>\n",
       "      <td>ROD-WELDING MILD STEEL 1/8\" AWS-A5.1-E6013 MSDS</td>\n",
       "      <td>DA-VIN</td>\n",
       "      <td>MS-1100</td>\n",
       "    </tr>\n",
       "    <tr>\n",
       "      <th>23</th>\n",
       "      <td>23</td>\n",
       "      <td>00170058</td>\n",
       "      <td>ROD-WELDING MILD STEEL 5/32\" AWS-A5.1-E6011</td>\n",
       "      <td>CERTANIUM</td>\n",
       "      <td>701</td>\n",
       "    </tr>\n",
       "    <tr>\n",
       "      <th>24</th>\n",
       "      <td>24</td>\n",
       "      <td>00170058</td>\n",
       "      <td>ROD-WELDING MILD STEEL 5/32\" AWS-A5.1-E6011</td>\n",
       "      <td>DA-VIN</td>\n",
       "      <td>MS-111</td>\n",
       "    </tr>\n",
       "    <tr>\n",
       "      <th>25</th>\n",
       "      <td>25</td>\n",
       "      <td>00170059</td>\n",
       "      <td>ALLOY-1/8 CERTANIUM 70F FLUX COATED HI STRENGTH</td>\n",
       "      <td>CERTANIUM</td>\n",
       "      <td>14280</td>\n",
       "    </tr>\n",
       "    <tr>\n",
       "      <th>26</th>\n",
       "      <td>26</td>\n",
       "      <td>00170059</td>\n",
       "      <td>ALLOY-1/8 CERTANIUM 70F FLUX COATED HI STRENGTH</td>\n",
       "      <td>COLONY INC</td>\n",
       "      <td>MG 130 FC</td>\n",
       "    </tr>\n",
       "    <tr>\n",
       "      <th>27</th>\n",
       "      <td>27</td>\n",
       "      <td>00170060</td>\n",
       "      <td>ROD-WELDING CYROMIUM 5/32\" AWS-A5.3 E4043</td>\n",
       "      <td>GENERIC</td>\n",
       "      <td>CERTANIUM#608</td>\n",
       "    </tr>\n",
       "    <tr>\n",
       "      <th>28</th>\n",
       "      <td>28</td>\n",
       "      <td>00170061</td>\n",
       "      <td>ROD-WELDING MILD STEEL 1/16\" AWS-A5.1-E6010</td>\n",
       "      <td>CERTANIUM</td>\n",
       "      <td>CERTANIUM-#100</td>\n",
       "    </tr>\n",
       "    <tr>\n",
       "      <th>29</th>\n",
       "      <td>29</td>\n",
       "      <td>00170063</td>\n",
       "      <td>ELECTRODE-SUPER STRENGTH NON-CRACKING 5/32</td>\n",
       "      <td>CERTANIUM</td>\n",
       "      <td>707</td>\n",
       "    </tr>\n",
       "    <tr>\n",
       "      <th>...</th>\n",
       "      <td>...</td>\n",
       "      <td>...</td>\n",
       "      <td>...</td>\n",
       "      <td>...</td>\n",
       "      <td>...</td>\n",
       "    </tr>\n",
       "    <tr>\n",
       "      <th>32967</th>\n",
       "      <td>32967</td>\n",
       "      <td>58179349</td>\n",
       "      <td>RELAY SYNCHRONIZER C T103229</td>\n",
       "      <td>GENERIC</td>\n",
       "      <td>347AO23HO4</td>\n",
       "    </tr>\n",
       "    <tr>\n",
       "      <th>32968</th>\n",
       "      <td>32968</td>\n",
       "      <td>58179350</td>\n",
       "      <td>PC CARD EXTENDER SYNCHRONIZER CT103229</td>\n",
       "      <td>GENERIC</td>\n",
       "      <td>589C353GO1</td>\n",
       "    </tr>\n",
       "    <tr>\n",
       "      <th>32969</th>\n",
       "      <td>32969</td>\n",
       "      <td>58179351</td>\n",
       "      <td>LINE FUSE TEMPERATURE RECORDER CT108704</td>\n",
       "      <td>GENERIC</td>\n",
       "      <td>14049</td>\n",
       "    </tr>\n",
       "    <tr>\n",
       "      <th>32970</th>\n",
       "      <td>32970</td>\n",
       "      <td>58179352</td>\n",
       "      <td>FUSE-AMPLIFIER TEMPERATURE RECORDER CT108704</td>\n",
       "      <td>GENERIC</td>\n",
       "      <td>14068</td>\n",
       "    </tr>\n",
       "    <tr>\n",
       "      <th>32971</th>\n",
       "      <td>32971</td>\n",
       "      <td>58179353</td>\n",
       "      <td>INK PAD WHEEL TEMPERATURE RECORDER CT108704</td>\n",
       "      <td>GENERIC</td>\n",
       "      <td>125158</td>\n",
       "    </tr>\n",
       "    <tr>\n",
       "      <th>32972</th>\n",
       "      <td>32972</td>\n",
       "      <td>58179354</td>\n",
       "      <td>DOT BELT TEMPERATURE RECORDER CT108704</td>\n",
       "      <td>GENERIC</td>\n",
       "      <td>137113</td>\n",
       "    </tr>\n",
       "    <tr>\n",
       "      <th>32973</th>\n",
       "      <td>32973</td>\n",
       "      <td>58179355</td>\n",
       "      <td>NUMERAL BELT TEMPERATURE RECORDER CT108704</td>\n",
       "      <td>GENERIC</td>\n",
       "      <td>137119</td>\n",
       "    </tr>\n",
       "    <tr>\n",
       "      <th>32974</th>\n",
       "      <td>32974</td>\n",
       "      <td>58179356</td>\n",
       "      <td>DIODE TEMPERATURE RECORDER CT108704</td>\n",
       "      <td>GENERIC</td>\n",
       "      <td>57327</td>\n",
       "    </tr>\n",
       "    <tr>\n",
       "      <th>32975</th>\n",
       "      <td>32975</td>\n",
       "      <td>58179357</td>\n",
       "      <td>24 POINT PRINTED CIR C TEMPERATRE RECORDER CT1...</td>\n",
       "      <td>GENERIC</td>\n",
       "      <td>444383</td>\n",
       "    </tr>\n",
       "    <tr>\n",
       "      <th>32976</th>\n",
       "      <td>32976</td>\n",
       "      <td>58179358</td>\n",
       "      <td>FUSE 1/2 AMP VIBRATION MONITOR CT108176</td>\n",
       "      <td>GENERIC</td>\n",
       "      <td>412725-3C</td>\n",
       "    </tr>\n",
       "    <tr>\n",
       "      <th>32977</th>\n",
       "      <td>32977</td>\n",
       "      <td>58179359</td>\n",
       "      <td>SWITCH-RESET VIBRATION MONITOR CT108176</td>\n",
       "      <td>GENERIC</td>\n",
       "      <td>412722-6A</td>\n",
       "    </tr>\n",
       "    <tr>\n",
       "      <th>32978</th>\n",
       "      <td>32978</td>\n",
       "      <td>58179360</td>\n",
       "      <td>LAMP BULB VIBRATION MONITOR CT108176</td>\n",
       "      <td>GENERIC</td>\n",
       "      <td>412724-6A</td>\n",
       "    </tr>\n",
       "    <tr>\n",
       "      <th>32979</th>\n",
       "      <td>32979</td>\n",
       "      <td>58179361</td>\n",
       "      <td>FUSE-2AMP VIBRATION MONITOR CT108176</td>\n",
       "      <td>GENERIC</td>\n",
       "      <td>412725-3G</td>\n",
       "    </tr>\n",
       "    <tr>\n",
       "      <th>32980</th>\n",
       "      <td>32980</td>\n",
       "      <td>58179362</td>\n",
       "      <td>VIB. CHANNEL P.C BOARD ASSY VIBRAT MONITR CT10...</td>\n",
       "      <td>GENERIC</td>\n",
       "      <td>412551-57</td>\n",
       "    </tr>\n",
       "    <tr>\n",
       "      <th>32981</th>\n",
       "      <td>32981</td>\n",
       "      <td>58179363</td>\n",
       "      <td>POWER SUPPLY-D.C. VIBRATION MONITOR CT108176</td>\n",
       "      <td>GENERIC</td>\n",
       "      <td>412550-60</td>\n",
       "    </tr>\n",
       "    <tr>\n",
       "      <th>32982</th>\n",
       "      <td>32982</td>\n",
       "      <td>58179364</td>\n",
       "      <td>P.C. BOARD VIBRATION MONITOR CT108176</td>\n",
       "      <td>GENERIC</td>\n",
       "      <td>412550-6</td>\n",
       "    </tr>\n",
       "    <tr>\n",
       "      <th>32983</th>\n",
       "      <td>32983</td>\n",
       "      <td>58179365</td>\n",
       "      <td>P.C. BOARD VIBRATION MONITOR CT108176</td>\n",
       "      <td>GENERIC</td>\n",
       "      <td>412550-5</td>\n",
       "    </tr>\n",
       "    <tr>\n",
       "      <th>32984</th>\n",
       "      <td>32984</td>\n",
       "      <td>58179366</td>\n",
       "      <td>CABLE ASSY.- 850 DEG . F (25 FT) VIBRATION MON...</td>\n",
       "      <td>GENERIC</td>\n",
       "      <td>412585-70RQ</td>\n",
       "    </tr>\n",
       "    <tr>\n",
       "      <th>32985</th>\n",
       "      <td>32985</td>\n",
       "      <td>58179367</td>\n",
       "      <td>CABLE ASSY. 850 DEG. F (42 FT)VIBRATION MONITOR</td>\n",
       "      <td>GENERIC</td>\n",
       "      <td>412585-70RV</td>\n",
       "    </tr>\n",
       "    <tr>\n",
       "      <th>32986</th>\n",
       "      <td>32986</td>\n",
       "      <td>58179368</td>\n",
       "      <td>O RING 2\" FIRE VALVE - LIQUID FUEL 82969 WLCPS</td>\n",
       "      <td>GENERIC</td>\n",
       "      <td>82969WLCPS-3</td>\n",
       "    </tr>\n",
       "    <tr>\n",
       "      <th>32987</th>\n",
       "      <td>32987</td>\n",
       "      <td>58179369</td>\n",
       "      <td>PISTON ASSY. 2\" FIRE VALVE - LIQUID FUEL</td>\n",
       "      <td>GENERIC</td>\n",
       "      <td>82969WLCPS-5A</td>\n",
       "    </tr>\n",
       "    <tr>\n",
       "      <th>32988</th>\n",
       "      <td>32988</td>\n",
       "      <td>58179370</td>\n",
       "      <td>SPRING- MAIN 2\" FIRE VALVE - LIQUID FUEL</td>\n",
       "      <td>GENERIC</td>\n",
       "      <td>82969WLCPS-5C</td>\n",
       "    </tr>\n",
       "    <tr>\n",
       "      <th>32989</th>\n",
       "      <td>32989</td>\n",
       "      <td>58179371</td>\n",
       "      <td>SPRING - PILOT 2\" FIR E VALVE - LIQUID FUEL</td>\n",
       "      <td>GENERIC</td>\n",
       "      <td>82969WLCPS-50</td>\n",
       "    </tr>\n",
       "    <tr>\n",
       "      <th>32990</th>\n",
       "      <td>32990</td>\n",
       "      <td>58179372</td>\n",
       "      <td>COIL 2\" FIRE VALVE - LIQUID FUEL</td>\n",
       "      <td>GENERIC</td>\n",
       "      <td>82969WLCPS-18</td>\n",
       "    </tr>\n",
       "    <tr>\n",
       "      <th>32991</th>\n",
       "      <td>32991</td>\n",
       "      <td>58179373</td>\n",
       "      <td>SPRING PLUNGER ROD 2 \" FIRE VALVE - LIQUID FUEL</td>\n",
       "      <td>GENERIC</td>\n",
       "      <td>82969WLCPS-26</td>\n",
       "    </tr>\n",
       "    <tr>\n",
       "      <th>32992</th>\n",
       "      <td>32992</td>\n",
       "      <td>58179374</td>\n",
       "      <td>PILOT SWITCH 2\" FIRE VALVE - LIQUID FUEL</td>\n",
       "      <td>GENERIC</td>\n",
       "      <td>82969WLCPS-29</td>\n",
       "    </tr>\n",
       "    <tr>\n",
       "      <th>32993</th>\n",
       "      <td>32993</td>\n",
       "      <td>58179375</td>\n",
       "      <td>VALVE SOLENOID WATER WASH CONTROL ASSY. IPD 6499</td>\n",
       "      <td>GENERIC</td>\n",
       "      <td>CT 107558</td>\n",
       "    </tr>\n",
       "    <tr>\n",
       "      <th>32994</th>\n",
       "      <td>32994</td>\n",
       "      <td>58179376</td>\n",
       "      <td>VALVE 3 WAY SOLENOID WTR WASH CONTRL ASSY IDP ...</td>\n",
       "      <td>GENERIC</td>\n",
       "      <td>CT 107291</td>\n",
       "    </tr>\n",
       "    <tr>\n",
       "      <th>32995</th>\n",
       "      <td>32995</td>\n",
       "      <td>58179377</td>\n",
       "      <td>FILTER - WATER WASH CONTROL IPD 6499</td>\n",
       "      <td>GENERIC</td>\n",
       "      <td>CT 108240</td>\n",
       "    </tr>\n",
       "    <tr>\n",
       "      <th>32996</th>\n",
       "      <td>32996</td>\n",
       "      <td>58211001</td>\n",
       "      <td>OIL-REGAL NO.46 R AN D O TURBINE</td>\n",
       "      <td>TEXACO</td>\n",
       "      <td>NO.46</td>\n",
       "    </tr>\n",
       "  </tbody>\n",
       "</table>\n",
       "<p>32997 rows × 5 columns</p>\n",
       "</div>"
      ],
      "text/plain": [
       "       Unnamed: 0 mbta_part_number  \\\n",
       "0               0         00118006   \n",
       "1               1         00118009   \n",
       "2               2         00170003   \n",
       "3               3         00170004   \n",
       "4               4         00170005   \n",
       "5               5         00170006   \n",
       "6               6         00170009   \n",
       "7               7         00170010   \n",
       "8               8         00170011   \n",
       "9               9         00170012   \n",
       "10             10         00170035   \n",
       "11             11         00170046   \n",
       "12             12         00170046   \n",
       "13             13         00170046   \n",
       "14             14         00170046   \n",
       "15             15         00170050   \n",
       "16             16         00170050   \n",
       "17             17         00170050   \n",
       "18             18         00170050   \n",
       "19             19         00170051   \n",
       "20             20         00170053   \n",
       "21             21         00170054   \n",
       "22             22         00170057   \n",
       "23             23         00170058   \n",
       "24             24         00170058   \n",
       "25             25         00170059   \n",
       "26             26         00170059   \n",
       "27             27         00170060   \n",
       "28             28         00170061   \n",
       "29             29         00170063   \n",
       "...           ...              ...   \n",
       "32967       32967         58179349   \n",
       "32968       32968         58179350   \n",
       "32969       32969         58179351   \n",
       "32970       32970         58179352   \n",
       "32971       32971         58179353   \n",
       "32972       32972         58179354   \n",
       "32973       32973         58179355   \n",
       "32974       32974         58179356   \n",
       "32975       32975         58179357   \n",
       "32976       32976         58179358   \n",
       "32977       32977         58179359   \n",
       "32978       32978         58179360   \n",
       "32979       32979         58179361   \n",
       "32980       32980         58179362   \n",
       "32981       32981         58179363   \n",
       "32982       32982         58179364   \n",
       "32983       32983         58179365   \n",
       "32984       32984         58179366   \n",
       "32985       32985         58179367   \n",
       "32986       32986         58179368   \n",
       "32987       32987         58179369   \n",
       "32988       32988         58179370   \n",
       "32989       32989         58179371   \n",
       "32990       32990         58179372   \n",
       "32991       32991         58179373   \n",
       "32992       32992         58179374   \n",
       "32993       32993         58179375   \n",
       "32994       32994         58179376   \n",
       "32995       32995         58179377   \n",
       "32996       32996         58211001   \n",
       "\n",
       "                                             description         mfg  \\\n",
       "0                   STEEL-5/16\" ROUND POLISHED DRILL ROD   HEATHCOTE   \n",
       "1                  DRILL ROD - 1/2\" ROUND POLISHED STEEL     GENERIC   \n",
       "2        ROD-WELDING-CARBON STEEL 1/8\" AWS-A5.18-ER70S-2     WELDERS   \n",
       "3                 ROD,EXTRACT ALLOY 3/ 32 (5LB. PACKAGE)     X-ERGON   \n",
       "4                ROD, EXTRACT ALLOY 1 /8 (5 LB. PACKAGE)     X-ERGON   \n",
       "5        WIRE WELDING - 1/8 X .660 NH TM AC/DC ELECTRODE    ALL WELD   \n",
       "6                  ROD-WELDING-MILD STEEL 1/8\" AWS-E6011      COLONY   \n",
       "7           ROD-WELDING, MILD STEEL 3/32\" AWS-A5.1-E6011    ALL WELD   \n",
       "8      ROD-WELDING-CARBON STEEL 3/32 \" AWS-A5.1 - E-7018   DA-VIN CO   \n",
       "9      ROD-WELDING,LOW HY-S TEEL 5/32\" AWS-A5.5 E8016-C1   DA-VIN CO   \n",
       "10            ROD-WELDING, COPPER 1/8\" AWS-A5.27-RCUZN-B    EUTECTIC   \n",
       "11         ROD-WELDING-CAST IRON 1/8\" AWS-A5.15-ENIFE-15   CERTANIUM   \n",
       "12         ROD-WELDING-CAST IRON 1/8\" AWS-A5.15-ENIFE-15  COLONY INC   \n",
       "13         ROD-WELDING-CAST IRON 1/8\" AWS-A5.15-ENIFE-15   DA-VIN CO   \n",
       "14         ROD-WELDING-CAST IRON 1/8\" AWS-A5.15-ENIFE-15    EUTECTIC   \n",
       "15        ELECTRODE-STAIN STEEL 1/8\" AWS-A5.15-EN1CRFE-5    ALLSTATE   \n",
       "16        ELECTRODE-STAIN STEEL 1/8\" AWS-A5.15-EN1CRFE-5   CERTANIUM   \n",
       "17        ELECTRODE-STAIN STEEL 1/8\" AWS-A5.15-EN1CRFE-5  COLONY INC   \n",
       "18        ELECTRODE-STAIN STEEL 1/8\" AWS-A5.15-EN1CRFE-5    EUTECTIC   \n",
       "19          ELECTRODE-STAIN STEEL 3/32\" AWS-A5.4-E312-16       ALLOY   \n",
       "20                         ROD 5/32 STEEL WELDING HOBART     GENERIC   \n",
       "21            ROD-WELDING-MILD STEEL 1/8\" AWS-A5.1 E6010     WELDERS   \n",
       "22       ROD-WELDING MILD STEEL 1/8\" AWS-A5.1-E6013 MSDS      DA-VIN   \n",
       "23           ROD-WELDING MILD STEEL 5/32\" AWS-A5.1-E6011   CERTANIUM   \n",
       "24           ROD-WELDING MILD STEEL 5/32\" AWS-A5.1-E6011      DA-VIN   \n",
       "25       ALLOY-1/8 CERTANIUM 70F FLUX COATED HI STRENGTH   CERTANIUM   \n",
       "26       ALLOY-1/8 CERTANIUM 70F FLUX COATED HI STRENGTH  COLONY INC   \n",
       "27             ROD-WELDING CYROMIUM 5/32\" AWS-A5.3 E4043     GENERIC   \n",
       "28           ROD-WELDING MILD STEEL 1/16\" AWS-A5.1-E6010   CERTANIUM   \n",
       "29            ELECTRODE-SUPER STRENGTH NON-CRACKING 5/32   CERTANIUM   \n",
       "...                                                  ...         ...   \n",
       "32967                       RELAY SYNCHRONIZER C T103229     GENERIC   \n",
       "32968             PC CARD EXTENDER SYNCHRONIZER CT103229     GENERIC   \n",
       "32969            LINE FUSE TEMPERATURE RECORDER CT108704     GENERIC   \n",
       "32970       FUSE-AMPLIFIER TEMPERATURE RECORDER CT108704     GENERIC   \n",
       "32971        INK PAD WHEEL TEMPERATURE RECORDER CT108704     GENERIC   \n",
       "32972             DOT BELT TEMPERATURE RECORDER CT108704     GENERIC   \n",
       "32973         NUMERAL BELT TEMPERATURE RECORDER CT108704     GENERIC   \n",
       "32974                DIODE TEMPERATURE RECORDER CT108704     GENERIC   \n",
       "32975  24 POINT PRINTED CIR C TEMPERATRE RECORDER CT1...     GENERIC   \n",
       "32976            FUSE 1/2 AMP VIBRATION MONITOR CT108176     GENERIC   \n",
       "32977            SWITCH-RESET VIBRATION MONITOR CT108176     GENERIC   \n",
       "32978               LAMP BULB VIBRATION MONITOR CT108176     GENERIC   \n",
       "32979               FUSE-2AMP VIBRATION MONITOR CT108176     GENERIC   \n",
       "32980  VIB. CHANNEL P.C BOARD ASSY VIBRAT MONITR CT10...     GENERIC   \n",
       "32981       POWER SUPPLY-D.C. VIBRATION MONITOR CT108176     GENERIC   \n",
       "32982              P.C. BOARD VIBRATION MONITOR CT108176     GENERIC   \n",
       "32983              P.C. BOARD VIBRATION MONITOR CT108176     GENERIC   \n",
       "32984  CABLE ASSY.- 850 DEG . F (25 FT) VIBRATION MON...     GENERIC   \n",
       "32985    CABLE ASSY. 850 DEG. F (42 FT)VIBRATION MONITOR     GENERIC   \n",
       "32986     O RING 2\" FIRE VALVE - LIQUID FUEL 82969 WLCPS     GENERIC   \n",
       "32987           PISTON ASSY. 2\" FIRE VALVE - LIQUID FUEL     GENERIC   \n",
       "32988           SPRING- MAIN 2\" FIRE VALVE - LIQUID FUEL     GENERIC   \n",
       "32989        SPRING - PILOT 2\" FIR E VALVE - LIQUID FUEL     GENERIC   \n",
       "32990                   COIL 2\" FIRE VALVE - LIQUID FUEL     GENERIC   \n",
       "32991    SPRING PLUNGER ROD 2 \" FIRE VALVE - LIQUID FUEL     GENERIC   \n",
       "32992           PILOT SWITCH 2\" FIRE VALVE - LIQUID FUEL     GENERIC   \n",
       "32993   VALVE SOLENOID WATER WASH CONTROL ASSY. IPD 6499     GENERIC   \n",
       "32994  VALVE 3 WAY SOLENOID WTR WASH CONTRL ASSY IDP ...     GENERIC   \n",
       "32995               FILTER - WATER WASH CONTROL IPD 6499     GENERIC   \n",
       "32996                   OIL-REGAL NO.46 R AN D O TURBINE      TEXACO   \n",
       "\n",
       "           mfg_itm_id  \n",
       "0           GRADE O-1  \n",
       "1           GRADE O-1  \n",
       "2           OX WELD 7  \n",
       "3          L004-50000  \n",
       "4         L004-4-0000  \n",
       "5              #66XHD  \n",
       "6                1/8\"  \n",
       "7        #230 ACP 611  \n",
       "8              MS1120  \n",
       "9         5/32-MS1140  \n",
       "10          NO 146 FC  \n",
       "11      #889 NO.12550  \n",
       "12             MG 289  \n",
       "13            CI-3100  \n",
       "14            AC58110  \n",
       "15                275  \n",
       "16      707 NO. 12330  \n",
       "17             MG 600  \n",
       "18            AS50110  \n",
       "19                312  \n",
       "20               6010  \n",
       "21               6010  \n",
       "22            MS-1100  \n",
       "23                701  \n",
       "24             MS-111  \n",
       "25              14280  \n",
       "26          MG 130 FC  \n",
       "27      CERTANIUM#608  \n",
       "28     CERTANIUM-#100  \n",
       "29                707  \n",
       "...               ...  \n",
       "32967      347AO23HO4  \n",
       "32968      589C353GO1  \n",
       "32969           14049  \n",
       "32970           14068  \n",
       "32971          125158  \n",
       "32972          137113  \n",
       "32973          137119  \n",
       "32974           57327  \n",
       "32975          444383  \n",
       "32976       412725-3C  \n",
       "32977       412722-6A  \n",
       "32978       412724-6A  \n",
       "32979       412725-3G  \n",
       "32980       412551-57  \n",
       "32981       412550-60  \n",
       "32982        412550-6  \n",
       "32983        412550-5  \n",
       "32984     412585-70RQ  \n",
       "32985     412585-70RV  \n",
       "32986    82969WLCPS-3  \n",
       "32987   82969WLCPS-5A  \n",
       "32988   82969WLCPS-5C  \n",
       "32989   82969WLCPS-50  \n",
       "32990   82969WLCPS-18  \n",
       "32991   82969WLCPS-26  \n",
       "32992   82969WLCPS-29  \n",
       "32993       CT 107558  \n",
       "32994       CT 107291  \n",
       "32995       CT 108240  \n",
       "32996           NO.46  \n",
       "\n",
       "[32997 rows x 5 columns]"
      ]
     },
     "execution_count": 6,
     "metadata": {},
     "output_type": "execute_result"
    }
   ],
   "source": [
    "df=pd.read_csv(\"item_mapping.csv\")\n",
    "\n",
    "df"
   ]
  },
  {
   "cell_type": "markdown",
   "metadata": {
    "collapsed": true
   },
   "source": [
    " "
   ]
  },
  {
   "cell_type": "code",
   "execution_count": null,
   "metadata": {
    "collapsed": true
   },
   "outputs": [],
   "source": []
  },
  {
   "cell_type": "code",
   "execution_count": null,
   "metadata": {
    "collapsed": true
   },
   "outputs": [],
   "source": []
  },
  {
   "cell_type": "code",
   "execution_count": null,
   "metadata": {
    "collapsed": true
   },
   "outputs": [],
   "source": []
  },
  {
   "cell_type": "code",
   "execution_count": null,
   "metadata": {
    "collapsed": true
   },
   "outputs": [],
   "source": []
  },
  {
   "cell_type": "code",
   "execution_count": null,
   "metadata": {
    "collapsed": true
   },
   "outputs": [],
   "source": []
  },
  {
   "cell_type": "markdown",
   "metadata": {},
   "source": [
    "# Deep analyse\n",
    "## funcions"
   ]
  },
  {
   "cell_type": "markdown",
   "metadata": {},
   "source": [
    "### to analyse a single word"
   ]
  },
  {
   "cell_type": "code",
   "execution_count": 7,
   "metadata": {},
   "outputs": [
    {
     "name": "stdout",
     "output_type": "stream",
     "text": [
      "STEEL is a material\n",
      "POLISHED is a NNS\n",
      "DRILL is a shape\n",
      "WELDING is a VBG\n",
      "CARBON is a NN\n",
      "1/8\" is not a word, and has no subword\n",
      "AWS-A5.18-ER70S-2 is not a word, but has subword(s)\n",
      "2 is a CD\n",
      "A5.18 is not a word, and has no subword\n",
      "ELECTRODE is a NN\n",
      "STAIN is a NN\n",
      "ELECTRODE-STAIN is not a word, but has subword(s)\n",
      "\n",
      "\t...some tests\n"
     ]
    }
   ],
   "source": [
    "def word_analyse(word):\n",
    "    if wordnet.synsets(word):\n",
    "        #print(word+' is a word,', end=' ')\n",
    "        if word.lower() in materials:\n",
    "            #print('more precisely a material.')\n",
    "            return 'material'\n",
    "        elif word.lower() in colors:\n",
    "            #print('more precisely a color.')\n",
    "            return 'color'\n",
    "        elif word.lower() in shapes:\n",
    "            #print('more precisely a shape.')\n",
    "            return 'shape'\n",
    "        elif word.lower() in sizes:\n",
    "            #print('more precisely a size.')\n",
    "            return 'size'\n",
    "        else:\n",
    "            tok = nltk.word_tokenize(word.lower())\n",
    "            #print(nltk.pos_tag(tok)[0][1])\n",
    "            return nltk.pos_tag(tok)[0][1]\n",
    "    else:\n",
    "        #print(word+' is not a word,', end=' ')\n",
    "        sub_words = word.replace('-', ' ').replace(',', ' ').split(' ')\n",
    "        sub=False\n",
    "        for word in sub_words:\n",
    "            if wordnet.synsets(word):\n",
    "                sub=True\n",
    "        if sub:\n",
    "            #print(\"subwords detected\")\n",
    "            return 'sub'\n",
    "        else:\n",
    "            #print('no subword detected')\n",
    "            return 'none'\n",
    "\n",
    "def printed_word_analyse(word):\n",
    "    ana=word_analyse(word)\n",
    "    if ana=='material':\n",
    "        print(word+' is a material')\n",
    "    elif ana=='color':\n",
    "        print(word+' is a color')\n",
    "    elif ana=='shape':\n",
    "        print(word+' is a shape')\n",
    "    elif ana=='size':\n",
    "        print(word+' is a size')\n",
    "    elif ana=='sub':\n",
    "        print(word+' is not a word, but has subword(s)')\n",
    "    elif ana=='none':\n",
    "        print(word+' is not a word, and has no subword')\n",
    "    else:\n",
    "        print(word+' is a '+ana)\n",
    "        \n",
    "    return ana\n",
    "\n",
    "printed_word_analyse('STEEL')\n",
    "printed_word_analyse('POLISHED')\n",
    "printed_word_analyse('DRILL')\n",
    "printed_word_analyse('WELDING')\n",
    "printed_word_analyse('CARBON')\n",
    "printed_word_analyse('1/8\"')\n",
    "printed_word_analyse('AWS-A5.18-ER70S-2')\n",
    "printed_word_analyse('2')\n",
    "printed_word_analyse('A5.18')\n",
    "printed_word_analyse('ELECTRODE')\n",
    "printed_word_analyse('STAIN')\n",
    "printed_word_analyse('ELECTRODE-STAIN')\n",
    "print('\\n\\t...some tests')"
   ]
  },
  {
   "cell_type": "markdown",
   "metadata": {},
   "source": [
    "#### to normalise a string\n",
    "*ie:* delete spaces at beginning and end"
   ]
  },
  {
   "cell_type": "code",
   "execution_count": 8,
   "metadata": {},
   "outputs": [
    {
     "name": "stdout",
     "output_type": "stream",
     "text": [
      "\"test\"\n",
      "\"test test\"\n",
      "\"test\"\n",
      "\"test\"\n",
      "\"test\"\n"
     ]
    }
   ],
   "source": [
    "def norm(ch):\n",
    "    while ch[0]==' ':\n",
    "        ch=ch[1:]\n",
    "    \n",
    "    while ch[-1]==' ':\n",
    "        ch=ch[:-1]\n",
    "    return ch\n",
    "\n",
    "\n",
    "print('\"'+norm('     test    ')+'\"')\n",
    "print('\"'+norm('    test test    ')+'\"')\n",
    "print('\"'+norm('test')+'\"')\n",
    "print('\"'+norm('    test')+'\"')\n",
    "print('\"'+norm('test ')+'\"')"
   ]
  },
  {
   "cell_type": "markdown",
   "metadata": {},
   "source": [
    "### to get the main word of the description\n",
    "*i.e.:* what it is\n",
    "\n",
    "*e.g.:* WIRE WELDING - 1/8 X .660 NH TM AC/DC ELECTRODE      =>     WIRE"
   ]
  },
  {
   "cell_type": "code",
   "execution_count": 9,
   "metadata": {},
   "outputs": [
    {
     "name": "stdout",
     "output_type": "stream",
     "text": [
      "getting main word:\n",
      "\n",
      "\tWIRE WELDING - 1/8 X .660 NH TM AC/DC ELECTRODE\n",
      "main word: WIRE\n",
      "\n"
     ]
    }
   ],
   "source": [
    "def get_main(descr):    \n",
    "    main=[t for t in descr.replace(',', '-').replace('WITH', '-').split('-')][0]\n",
    "    if word_analyse(main)=='sub':\n",
    "        for w in norm(main).split(' '):\n",
    "            if word_analyse(w) in ['NN', 'NNS']:\n",
    "                main=w\n",
    "        \n",
    "    if word_analyse(main) in ['material', 'color', 'shape', 'size', 'none', 'sub']:\n",
    "        if len([t for t in descr.replace(',', '-').replace('WITH', '-').split('-')])==1:\n",
    "            main=[t for t in descr.split(' ')][0]\n",
    "        else:\n",
    "            main=[t for t in descr.split(' ')][-1]\n",
    "    \n",
    "    return main\n",
    "\n",
    "\n",
    "\n",
    "def printed_get_main(descr):\n",
    "    print('\\t'+descr)\n",
    "    main=get_main(descr)\n",
    "    print('main word: '+main)\n",
    "    return main\n",
    "\n",
    "a=df[\"description\"][5]\n",
    "print(\"getting main word:\\n\")\n",
    "printed_get_main(a)\n",
    "print('')"
   ]
  },
  {
   "cell_type": "markdown",
   "metadata": {},
   "source": [
    "### to split a string into words"
   ]
  },
  {
   "cell_type": "code",
   "execution_count": 10,
   "metadata": {},
   "outputs": [
    {
     "name": "stdout",
     "output_type": "stream",
     "text": [
      "LOCK LEVER, ISLAND HOUSING, VACUUM ISLAND FAREBOX\n",
      "\n",
      "\tsplitting into words:\n",
      "\n",
      "['LOCK', 'LEVER', '', 'ISLAND', 'HOUSING', '', 'VACUUM', 'ISLAND', 'FAREBOX']\n"
     ]
    }
   ],
   "source": [
    "def split_words(descr):\n",
    "    l=descr.split(' ')\n",
    "    i=0\n",
    "    while i<len(l):\n",
    "        if word_analyse(l[i])=='sub':\n",
    "            subs=l[i].replace('-', ' ').replace(',', ' ').split(' ')\n",
    "            l=l[:i]+subs+l[i+1:]\n",
    "        i+=1\n",
    "    return l\n",
    "\n",
    "\n",
    "a=df[\"description\"][15000]\n",
    "\n",
    "print(a)\n",
    "print(\"\\n\\tsplitting into words:\\n\")\n",
    "print(split_words(a))"
   ]
  },
  {
   "cell_type": "markdown",
   "metadata": {},
   "source": [
    "### to get the description of the package involved\n",
    "#### (if there is one)\n",
    "*ie:* quantity, unit, type if defined\n",
    "\n",
    "see https://regex101.com/r/oxWBmt/3 for more tests of the regular expression"
   ]
  },
  {
   "cell_type": "code",
   "execution_count": 11,
   "metadata": {},
   "outputs": [
    {
     "name": "stdout",
     "output_type": "stream",
     "text": [
      "ROD, EXTRACT ALLOY 1 /8 (5 LB. PACKAGE)\n"
     ]
    },
    {
     "data": {
      "text/plain": [
       "('ROD, EXTRACT ALLOY 1 /8 ', '5', 'LB', 'PACKAGE')"
      ]
     },
     "execution_count": 11,
     "metadata": {},
     "output_type": "execute_result"
    }
   ],
   "source": [
    "regex_package = r\"\\(? ?[0-9]+ ?[PERLBFTYDS\\.']*\\/? ?(PACKAGE|PKG|PK|ROLL|RLS|COIL|REEL|REELS|BOX|BXE|BXS|BX)[\\)\\., -]*\"\n",
    "regex_quantity = r\"[0-9]+\"\n",
    "regex_unit = r\"(LB|FT|YDS|PER|P[^K]|')\"\n",
    "regex_type = r\"(PACKAGE|PKG|PK|ROLL|RLS|COIL|REEL|REELS|BOX|BXE|BXS|BX)\"\n",
    "prog_quantity = re.compile(regex_quantity)\n",
    "prog_unit = re.compile(regex_unit)\n",
    "prog_type = re.compile(regex_type)\n",
    "prog_package = re.compile(regex_package)\n",
    "\n",
    "def get_package(descr):\n",
    "    remain_descr = prog_package.split(descr)[0]\n",
    "    result=prog_package.search(descr)\n",
    "    if result is None:\n",
    "        package_quantity, package_unit, package_type = None, None, None\n",
    "    else:\n",
    "        package = result.group()\n",
    "        package_quantity = prog_quantity.search(package).group()\n",
    "        package_type = prog_type.search(package).group()\n",
    "        \n",
    "        res=prog_unit.search(package)\n",
    "        if res is None:\n",
    "            package_unit = None\n",
    "        else:\n",
    "            package_unit = res.group()\n",
    "\n",
    "    return (remain_descr, package_quantity, package_unit, package_type)\n",
    "\n",
    "\n",
    "a=df[\"description\"][4]\n",
    "print(a)\n",
    "get_package(a)"
   ]
  },
  {
   "cell_type": "code",
   "execution_count": 12,
   "metadata": {},
   "outputs": [
    {
     "name": "stdout",
     "output_type": "stream",
     "text": [
      "ROD-BRAZING BRZFC 3/32\"\" X36\"\" X 10 LB AWS 5-8-92\tNone\tNone\tNone\t\n",
      "ROD-WELDING-MILD STEEL 1/8\"\" AWS-A5.1 E6010\t\tNone\tNone\tNone\t\n",
      "CABLE-14 GAUGE BLACK AUTOMOTIVE PRIMARY WIRE\t100\tNone\tROLL\t\n",
      "BAG-POLY 2 MIL, LOC TOP, 4\"\" X 6\"\" -UOM EA. \t100\tNone\tPKG\t\n",
      "BOLT-MACH 1X8 1/2 HV Y SQ HD W/HVY HEX NUT-\t10\tP/\tPK\t\n",
      "BOLT-MACHINE 1X7 REG SQ.W/HEAVY HEX NUT -\t10\tP/\tPKG\t\n",
      "BOLT HX HD 1/2-13X1- 1/4 GRAD 5 ZINC PLT\t50\tNone\tBOX\t\n",
      "TUBING- 1 1/8 OD COPPER .050 WALL TYPE L\t60\t'\tROLL\t\n",
      "NLA -LABEL-POLY TRANS IP BAR CODE 3 X2 \t2500\tP/\tROLL\t\n",
      "WIRE-NO. 12 AWG 19 ST RAND-BLACK COPPER\t500\tFT\tROLL\t\n",
      "FABRIC VINYL COATED JADE GREEN T-97 APP\t35\tYDS\tROLL\t\n",
      "BOLT-COMMON CARR 1/2 X 4 1/2 W/ NUT \t25\tP/\tPKG\t\n",
      "NUT HEX PLAIN STL CA D PLT 5/16-18\t100\tNone\tBOX\t\n",
      "NUT-HEX PLAIN STL CA D PLT 3/8-16\t100\tNone\tPK\t\n",
      "BOLT HX CAP G#8 3/4- 16 X 3-1/4\t25\tNone\tBXE\t\n",
      "BOLT HX CAP G#8 5/8- 11 X 4\t25\tNone\tBX\t\n",
      "BOLT-COMMON CARR W/N UT -\t100\tP/\tPKG\t\n",
      "ROD, EXTRACT ALLOY 1 /8 \t5\tLB\tPACKAGE\t\n",
      "ROD, EXTRACT ALLOY 1 /8 \t5\tLB\tPACKAGE\t\n",
      "BOOT-DUST\t10\tPER\tPKG\t\n"
     ]
    }
   ],
   "source": [
    "test_str = (\"ROD-BRAZING BRZFC 3/32\\\"\\\" X36\\\"\\\" X 10 LB AWS 5-8-92\",\n",
    "            \"ROD-WELDING-MILD STEEL 1/8\\\"\\\" AWS-A5.1 E6010\\t\", \n",
    "            \"CABLE-14 GAUGE BLACK AUTOMOTIVE PRIMARY WIRE 100/ROLL\\n\", \n",
    "            \"BAG-POLY 2 MIL, LOC TOP, 4\\\"\\\" X 6\\\"\\\" -UOM EA. (100/PKG, 1000/BX)\\n\", \n",
    "            \"BOLT-MACH 1X8 1/2 HV Y SQ HD W/HVY HEX NUT-10 P/PK\\n\", \n",
    "            \"BOLT-MACHINE 1X7 REG SQ.W/HEAVY HEX NUT -10 P/PKG\\n\", \n",
    "            \"BOLT HX HD 1/2-13X1- 1/4 GRAD 5 ZINC PLT 50/BOX\\n\", \n",
    "            \"TUBING- 1 1/8 OD COPPER .050 WALL TYPE L 60'/ROLL\", \n",
    "            \"NLA -LABEL-POLY TRANS IP BAR CODE 3\"\" X2\"\" (2500 P/ROLL)\", \n",
    "            \"WIRE-NO. 12 AWG 19 ST RAND-BLACK COPPER 500FT/ROLL\", \n",
    "            \"FABRIC VINYL COATED JADE GREEN T-97 APP 35YDS/ROLL\", \n",
    "            \"BOLT-COMMON CARR 1/2 X 4 1/2 W/ NUT ( 25 P/PKG.)\\n\", \n",
    "            \"NUT HEX PLAIN STL CA D PLT 5/16-18 100/BOX\\n\", \n",
    "            \"NUT-HEX PLAIN STL CA D PLT 3/8-16 100/PK\\n\", \n",
    "            \"BOLT HX CAP G#8 3/4- 16 X 3-1/4 25/BXE THREAD\\n\", \n",
    "            \"BOLT HX CAP G#8 5/8- 11 X 4 25/BX\\n\", \n",
    "            \"BOLT-COMMON CARR W/N UT - 100 P/PKG. -\\n\", \n",
    "            \"ROD, EXTRACT ALLOY 1 /8 (5 LB. PACKAGE)\\n\", \n",
    "            \"ROD, EXTRACT ALLOY 1 /8 (5 LB. PACKAGE)\\n\", \n",
    "            \"BOOT-DUST 10 PER PKG\"\n",
    "           )\n",
    "\n",
    "for s in test_str:\n",
    "    pk=get_package(s)\n",
    "    for ele in pk:\n",
    "        print(ele, end='\\t')\n",
    "    print()\n"
   ]
  },
  {
   "cell_type": "markdown",
   "metadata": {},
   "source": [
    "### to get the reference of the product"
   ]
  },
  {
   "cell_type": "code",
   "execution_count": 13,
   "metadata": {},
   "outputs": [
    {
     "name": "stdout",
     "output_type": "stream",
     "text": [
      "ROD-WELDING-CARBON STEEL 1/8\" AWS-A5.18-ER70S-2\n"
     ]
    },
    {
     "data": {
      "text/plain": [
       "('ROD-WELDING-CARBON STEEL 1/8\" ', 'AWS-A5.18-ER70S-2')"
      ]
     },
     "execution_count": 13,
     "metadata": {},
     "output_type": "execute_result"
    }
   ],
   "source": [
    "def get_reference(descr):\n",
    "    d=descr.split('AWS')\n",
    "    remain_descr=d[0]\n",
    "    if len(d)==1:\n",
    "        reference=None\n",
    "    else:\n",
    "        reference='AWS'+d[1]\n",
    "    return (remain_descr, reference)\n",
    "\n",
    "\n",
    "a=df[\"description\"][2]\n",
    "print(a)\n",
    "get_reference(a)"
   ]
  },
  {
   "cell_type": "markdown",
   "metadata": {},
   "source": [
    "### to get the description of the sizes involved\n",
    "#### (if there are some)\n",
    "*ie:* quantities, units if defined\n",
    "\n",
    "see https://regex101.com/r/JDgBw7/5 for more tests of the regular expression"
   ]
  },
  {
   "cell_type": "code",
   "execution_count": 14,
   "metadata": {},
   "outputs": [
    {
     "name": "stdout",
     "output_type": "stream",
     "text": [
      "CAPACITOR, 47000UF- 40VDC76MMX105MM ( KENDEIL )\n"
     ]
    },
    {
     "data": {
      "text/plain": [
       "('CAPACITOR, - DCX ( KENDEIL )',\n",
       " [('47000', 'UF'),\n",
       "  ('40', 'VOLT'),\n",
       "  ('76', 'MilliMeter'),\n",
       "  ('105', 'MilliMeter')])"
      ]
     },
     "execution_count": 14,
     "metadata": {},
     "output_type": "execute_result"
    }
   ],
   "source": [
    "regex_size=r'[0-9.]+ ?\\/? ?[0-9.\\/ ]* ?-?(\"|OZ|V|C |IN.|IN|LB|FT([^\\/]|$)|F[^T]|AM|A,|MM|WATT|GAL|HR|FEET|METER|OHM|UF|%|NH)'\n",
    "\n",
    "\n",
    "regex_quantity = r\"[0-9\\/.]+\"\n",
    "regex_size_unit = r'(\"|OZ|V|C|IN|LB|FT|F|AM|A|MM|WATT|GAL|HR|FEET|METER|OHM|UF|%|NH)'\n",
    "prog_quantity = re.compile(regex_quantity)\n",
    "prog_size_unit = re.compile(regex_size_unit)\n",
    "prog_size = re.compile(regex_size)\n",
    "\n",
    "def get_sizes(descr):\n",
    "    remain_descr=prog_size.sub(\"\", descr)\n",
    "    \n",
    "    \n",
    "    results=prog_size.finditer(descr)\n",
    "    sizes=[]\n",
    "    for result in results:\n",
    "        size = result.group()\n",
    "        size_quantity = prog_quantity.search(size).group()\n",
    "        size_unit = prog_size_unit.search(size).group()\n",
    "        #transform abreviations in full words\n",
    "        if size_unit=='\"':\n",
    "            size_unit='INCH'\n",
    "        elif size_unit=='IN':\n",
    "            size_unit='INCH'\n",
    "        elif size_unit=='V':\n",
    "            size_unit='VOLT'\n",
    "        elif size_unit=='AM':\n",
    "            size_unit='AMP'\n",
    "        elif size_unit=='A,':\n",
    "            size_unit='AMP'\n",
    "        elif size_unit=='C':\n",
    "            size_unit='COULOMB'\n",
    "        elif size_unit=='FT':\n",
    "            size_unit='FEET'\n",
    "        elif size_unit=='F':\n",
    "            size_unit='FARADE'\n",
    "        elif size_unit=='HR':\n",
    "            size_unit='HOUR'\n",
    "        elif size_unit=='MM':\n",
    "            size_unit='MilliMeter'\n",
    "        #put size tulpe in list of sizes\n",
    "        sizes.append((size_quantity, size_unit))\n",
    "        \n",
    "    return (remain_descr, sizes)\n",
    "\n",
    "\n",
    "a=df[\"description\"][8650]\n",
    "print(a)\n",
    "get_sizes(a)"
   ]
  },
  {
   "cell_type": "markdown",
   "metadata": {},
   "source": [
    "#### few tests"
   ]
  },
  {
   "cell_type": "code",
   "execution_count": 15,
   "metadata": {},
   "outputs": [
    {
     "name": "stdout",
     "output_type": "stream",
     "text": [
      "TUBING-COPPER 3/8\"\" NOM 1/2\"\" OD TYPE L SOFT TEMPER 60FT/COIL\n",
      "('TUBING-COPPER \" NOM \" OD TYPE L SOFT TEMPER 60FT/COIL', [('3/8', 'INCH'), ('1/2', 'INCH')]) \n",
      "\n",
      "WIRE-2 AWG SGL COND DLO 2000V 90 C 1000/ROLL\n",
      "('WIRE-2 AWG SGL COND DLO  1000/ROLL', [('2000', 'VOLT'), ('90', 'COULOMB')]) \n",
      "\n",
      "SPRAY-ANTI SPATTER 16 OZ\n",
      "('SPRAY-ANTI SPATTER ', [('16', 'OZ')]) \n",
      "\n",
      "ROD-WELDING-CARBON STEEL-1/8\"\" AWS-A5.1-E7018\n",
      "('ROD-WELDING-CARBON STEEL-\" AWS-A5.1-E7018', [('1/8', 'INCH')]) \n",
      "\n",
      "BOLT-5/8\"\" X 2 3/4\"\" GRADE 8 SAE (50 P/PKG)\n",
      "('BOLT-\" X \" GRADE 8 SAE (50 P/PKG)', [('5/8', 'INCH'), ('2', 'INCH')]) \n",
      "\n",
      "STEEL-5/16\"\" ROUND POLISHED DRILL ROD\n",
      "('STEEL-\" ROUND POLISHED DRILL ROD', [('5/16', 'INCH')]) \n",
      "\n",
      "ROD, EXTRACT ALLOY 1 /8\n",
      "('ROD, EXTRACT ALLOY 1 /8', []) \n",
      "\n",
      "ALLOY-1/8 CERTANIUM 70F FLUX COATED HI STRENGTH\n",
      "('ALLOY-1/8 CERTANIUM FLUX COATED HI STRENGTH', [('70', 'FARADE')]) \n",
      "\n",
      "FILE 10 INCH ROUND BASTARD\n",
      "('FILE H ROUND BASTARD', [('10', 'INCH')]) \n",
      "\n",
      "FILES 14 IN. ROUND BASTARD\n",
      "('FILES  ROUND BASTARD', [('14', 'INCH')]) \n",
      "\n",
      "FILES-6IN MILL BASTARD\n",
      "('FILES-MILL BASTARD', [('6', 'INCH')]) \n",
      "\n",
      "FILES-10 IN MILL BASTARD\n",
      "('FILES-MILL BASTARD', [('10', 'INCH')]) \n",
      "\n",
      "HAMMERS-12 LB DF STRIKING\n",
      "('HAMMERS- DF STRIKING', [('12', 'LB')]) \n",
      "\n",
      "PUNCH LONG TAPERED 5 /8 IN STOCK 12\"\" LONG 3/16 POINT\n",
      "('PUNCH LONG TAPERED STOCK \" LONG 3/16 POINT', [('5', 'INCH'), ('12', 'INCH')]) \n",
      "\n",
      "SAWS- 2\"\" INCH H.S.HO LE (DO NOT BUY B&D)\n",
      "('SAWS- \" INCH H.S.HO LE (DO NOT BUY B&D)', [('2', 'INCH')]) \n",
      "\n",
      "RESISTOR, 24V ( MCC ) HTR/DEF N/F DIESEL\n",
      "('RESISTOR,  ( MCC ) HTR/DEF N/F DIESEL', [('24', 'VOLT')]) \n",
      "\n",
      "CIRCUIT BREAKER- 15 AMP-10 HP ( ALLEN BRADLEY ) NEO\n",
      "('CIRCUIT BREAKER- P-10 HP ( ALLEN BRADLEY ) NEO', [('15', 'AMP')]) \n",
      "\n",
      "HORN - HIGH TONE ONLY , 24VOLT ( WOLO )\n",
      "('HORN - HIGH TONE ONLY , OLT ( WOLO )', [('24', 'VOLT')]) \n",
      "\n",
      "HOLDER, FUSE ,30 AMP, 12 GUAGE- 3.0 MM ,ORANGE WIRE\n",
      "('HOLDER, FUSE ,P, 12 GUAGE-  ,ORANGE WIRE', [('30', 'AMP'), ('3.0', 'MilliMeter')]) \n",
      "\n",
      "EQUALIZER, W/ BATTERY MONITOR 100A,12-24V (VANNER) DMA ONLY\n",
      "('EQUALIZER, W/ BATTERY MONITOR 12- (VANNER) DMA ONLY', [('100', 'A'), ('24', 'VOLT')]) \n",
      "\n",
      "DOME, 2.5 MM - WHITE HOUSING ( SAFETY VISION ) NF\n",
      "('DOME,  - WHITE HOUSING ( SAFETY VISION ) NF', [('2.5', 'MilliMeter')]) \n",
      "\n",
      "VIDEO CABLE, CAMERA ( 500 FT= EA SPOOL) BELDEN\n",
      "('VIDEO CABLE, CAMERA (  EA SPOOL) BELDEN', [('500', 'FEET')]) \n",
      "\n",
      "CYLINDER ASSY,60LBS ACC DR NF40'HYB, 40'CNG\n",
      "(\"CYLINDER ASSY,S ACC DR NF40'HYB, 40'CNG\", [('60', 'LB')]) \n",
      "\n",
      "WASHER,HARD 3/8 FRT RAD RD NF HYB\n",
      "('WASHER,HARD T RAD RD NF HYB', [('3/8', 'FARADE')]) \n",
      "\n",
      "BRAKE CHAMBER FRT ASSY R & L HAND 2.5 INCH LONG STROKE\n",
      "('BRAKE CHAMBER FRT ASSY R & L HAND H LONG STROKE', [('2.5', 'INCH')]) \n",
      "\n",
      "PROTECTOR-COIL 10 AM P FOR E7927-E7505\n",
      "('PROTECTOR-COIL  P FOR E7927-E7505', [('10', 'AMP')]) \n",
      "\n",
      "RDT-40 3RD RAIL HEATER 40WATT/PORT, 52' 6\"\" LONG\n",
      "('RDT-40 3RD RAIL HEATER /PORT, 52\\' \" LONG', [('40', 'WATT'), ('6', 'INCH')]) \n",
      "\n",
      "OIL-FAST CUTTING HONING (5 GALLON PAILS)\n",
      "('OIL-FAST CUTTING HONING (LON PAILS)', [('5', 'GAL')]) \n",
      "\n",
      "HEADLIGHT ASSY, HIGH BEAM 2000 HR , NABI\n",
      "('HEADLIGHT ASSY, HIGH BEAM  , NABI', [('2000', 'HOUR')]) \n",
      "\n",
      "HOSE ASSEMBLY -3/8 PNEUMATIC - 50 FEET WITH ¼ FITTINGS\n",
      "('HOSE ASSEMBLY -3/8 PNEUMATIC - ET WITH ¼ FITTINGS', [('50', 'FARADE')]) \n",
      "\n",
      "SIMPSON TEST LEADS - SERIES 7 METER\n",
      "('SIMPSON TEST LEADS - SERIES ', [('7', 'METER')]) \n",
      "\n",
      "WIRE WELDING - 1/8 X .660 NH TM AC/DC ELECTRODE\n",
      "('WIRE WELDING - 1/8 X  TM AC/DC ELECTRODE', [('.660', 'NH')]) \n",
      "\n",
      "TAPE SWITCH 3.5 FT\n",
      "('TAPE SWITCH ', [('3.5', 'FEET')]) \n",
      "\n"
     ]
    }
   ],
   "source": [
    "test=\"\"\"TUBING-COPPER 3/8\"\" NOM 1/2\"\" OD TYPE L SOFT TEMPER 60FT/COIL\n",
    "WIRE-2 AWG SGL COND DLO 2000V 90 C 1000/ROLL\n",
    "SPRAY-ANTI SPATTER 16 OZ\n",
    "ROD-WELDING-CARBON STEEL-1/8\"\" AWS-A5.1-E7018\n",
    "BOLT-5/8\"\" X 2 3/4\"\" GRADE 8 SAE (50 P/PKG)\n",
    "STEEL-5/16\"\" ROUND POLISHED DRILL ROD\n",
    "ROD, EXTRACT ALLOY 1 /8\n",
    "ALLOY-1/8 CERTANIUM 70F FLUX COATED HI STRENGTH\n",
    "FILE 10 INCH ROUND BASTARD\n",
    "FILES 14 IN. ROUND BASTARD\n",
    "FILES-6IN MILL BASTARD\n",
    "FILES-10 IN MILL BASTARD\n",
    "HAMMERS-12 LB DF STRIKING\n",
    "PUNCH LONG TAPERED 5 /8 IN STOCK 12\"\" LONG 3/16 POINT\n",
    "SAWS- 2\"\" INCH H.S.HO LE (DO NOT BUY B&D)\n",
    "RESISTOR, 24V ( MCC ) HTR/DEF N/F DIESEL\n",
    "CIRCUIT BREAKER- 15 AMP-10 HP ( ALLEN BRADLEY ) NEO\n",
    "HORN - HIGH TONE ONLY , 24VOLT ( WOLO )\n",
    "HOLDER, FUSE ,30 AMP, 12 GUAGE- 3.0 MM ,ORANGE WIRE\n",
    "EQUALIZER, W/ BATTERY MONITOR 100A,12-24V (VANNER) DMA ONLY\n",
    "DOME, 2.5 MM - WHITE HOUSING ( SAFETY VISION ) NF\n",
    "VIDEO CABLE, CAMERA ( 500 FT= EA SPOOL) BELDEN\n",
    "CYLINDER ASSY,60LBS ACC DR NF40'HYB, 40'CNG\n",
    "WASHER,HARD 3/8 FRT RAD RD NF HYB\n",
    "BRAKE CHAMBER FRT ASSY R & L HAND 2.5 INCH LONG STROKE\n",
    "PROTECTOR-COIL 10 AM P FOR E7927-E7505\n",
    "RDT-40 3RD RAIL HEATER 40WATT/PORT, 52' 6\"\" LONG\n",
    "OIL-FAST CUTTING HONING (5 GALLON PAILS)\n",
    "HEADLIGHT ASSY, HIGH BEAM 2000 HR , NABI\n",
    "HOSE ASSEMBLY -3/8 PNEUMATIC - 50 FEET WITH ¼ FITTINGS\n",
    "SIMPSON TEST LEADS - SERIES 7 METER\n",
    "WIRE WELDING - 1/8 X .660 NH TM AC/DC ELECTRODE\n",
    "TAPE SWITCH 3.5 FT\"\"\"\n",
    "\n",
    "for descr in test.split('\\n'):\n",
    "    print(descr)\n",
    "    print(get_sizes(descr), '\\n')"
   ]
  },
  {
   "cell_type": "markdown",
   "metadata": {},
   "source": [
    "### to guess the sizes without units\n",
    "**first, make a dic of common sizes**"
   ]
  },
  {
   "cell_type": "code",
   "execution_count": 16,
   "metadata": {
    "collapsed": true,
    "scrolled": true
   },
   "outputs": [],
   "source": [
    "def get_only_sizes(descr):\n",
    "    return get_sizes(descr)[1:]\n",
    "\n",
    "common_dic={}\n",
    "for i in range(len(df)):\n",
    "    main=get_main(df[\"description\"][i])\n",
    "    sizes=get_only_sizes(df[\"description\"][i])\n",
    "    for s in sizes:\n",
    "        if s!=[]:\n",
    "            try:\n",
    "                if not s in common_dic[main]:\n",
    "                    common_dic[main].append(s)\n",
    "            except:\n",
    "                common_dic[main]=[s]\n",
    "    "
   ]
  },
  {
   "cell_type": "code",
   "execution_count": 17,
   "metadata": {},
   "outputs": [
    {
     "data": {
      "text/plain": [
       "'ksjfksvsv515svs646668'"
      ]
     },
     "execution_count": 17,
     "metadata": {},
     "output_type": "execute_result"
    }
   ],
   "source": [
    "def delete_spaces(ch):\n",
    "    return ch.replace(' ', '')\n",
    "\n",
    "delete_spaces(' ksjfk  sv sv515sv s64 6 668   ')"
   ]
  },
  {
   "cell_type": "code",
   "execution_count": 18,
   "metadata": {
    "scrolled": false
   },
   "outputs": [
    {
     "data": {
      "text/plain": [
       "[('5/16', 'INCH'),\n",
       " ('1/2', 'INCH'),\n",
       " ('1/8', 'INCH'),\n",
       " ('5', 'LB'),\n",
       " ('3/32', 'INCH'),\n",
       " ('5/32', 'INCH'),\n",
       " ('1/16', 'INCH'),\n",
       " ('5', 'INCH'),\n",
       " ('3/32', 'INCH'),\n",
       " ('36', 'INCH'),\n",
       " ('10', 'LB'),\n",
       " ('1/4', 'INCH'),\n",
       " ('12', 'INCH'),\n",
       " ('1/8', 'INCH'),\n",
       " ('36', 'INCH'),\n",
       " ('3/16', 'INCH'),\n",
       " ('.', 'VOLT'),\n",
       " ('20', 'INCH'),\n",
       " ('52', 'INCH'),\n",
       " ('3/4', 'INCH'),\n",
       " ('8', 'FEET'),\n",
       " ('5/8', 'INCH'),\n",
       " ('6', 'FEET'),\n",
       " ('3/4', 'INCH'),\n",
       " ('6', 'FEET'),\n",
       " ('5', 'FEET'),\n",
       " ('5', 'FARADE'),\n",
       " ('3873', 'FARADE'),\n",
       " ('1/8', 'INCH'),\n",
       " ('1', 'LB')]"
      ]
     },
     "execution_count": 18,
     "metadata": {},
     "output_type": "execute_result"
    }
   ],
   "source": [
    "c_dic={} #list of common tuples (size, unit) by main word\n",
    "for k in common_dic.keys():\n",
    "    l=[]\n",
    "    for i in range(len(common_dic[k])):\n",
    "        for j in range(len(common_dic[k][i])):\n",
    "            l.append((delete_spaces(common_dic[k][i][j][0]), common_dic[k][i][j][1]))\n",
    "    c_dic[k]=l\n",
    "\n",
    "c_dic['ROD']"
   ]
  },
  {
   "cell_type": "code",
   "execution_count": 19,
   "metadata": {
    "collapsed": true
   },
   "outputs": [],
   "source": [
    "def guess_unit(main, nb):\n",
    "    try:\n",
    "        r=range(len(c_dic[main]))\n",
    "    except:\n",
    "        return None\n",
    "    else:\n",
    "        for i in range(len(c_dic[main])):\n",
    "            if nb==c_dic[main][i][0]:\n",
    "                return c_dic[main][i][1]\n",
    "    return None"
   ]
  },
  {
   "cell_type": "code",
   "execution_count": 20,
   "metadata": {},
   "outputs": [
    {
     "name": "stdout",
     "output_type": "stream",
     "text": [
      "ROD-BRAZING ELECTRD 1/8 DIA NEPTUNE/G #624 NASSAU\n",
      "ROD-BRAZING ELECTRD 1/8 DIA NEPTUNE/G #624 NASSAU []     => \"sure sizes\"\n",
      "ROD-BRAZING ELECTRD DIA NEPTUNE/G #NASSAU ; [] ; [('1/8', 'INCH')] ; ['624'] ;     => \"guess sizes\" & others numerical values\n"
     ]
    }
   ],
   "source": [
    "regex_nbs=r'[0-9]+ ?\\/? ?[0-9.\\/ ]*'\n",
    "prog_nbs = re.compile(regex_nbs)\n",
    "\n",
    "def get_nbs(descr):\n",
    "    remain_descr=prog_nbs.sub(\"\", descr)\n",
    "    \n",
    "    results=prog_nbs.finditer(descr)\n",
    "    nbs=[]\n",
    "    sizes=[]\n",
    "    for result in results:\n",
    "        nb = delete_spaces(result.group())\n",
    "        unit=guess_unit(get_main(descr), nb)\n",
    "        if not unit is None:\n",
    "            sizes.append((nb, unit))\n",
    "        else:\n",
    "            nbs.append(nb)\n",
    "    \n",
    "    return (remain_descr, sizes, nbs)\n",
    "\n",
    "\n",
    "#a small test\n",
    "a=df[\"description\"][47]\n",
    "print(a)\n",
    "a, sizes=get_sizes(a)\n",
    "print(a, sizes, '    => \"sure sizes\"')\n",
    "a, unsure_sizes, nbs=get_nbs(a)\n",
    "print(a, sizes, unsure_sizes, nbs, '    => \"guess sizes\" & others numerical values', sep=' ; ')"
   ]
  },
  {
   "cell_type": "markdown",
   "metadata": {},
   "source": [
    "=> I think that it is now okay to mix guess and sure sizes, as I am using your method (matching unit iff size value match with main word)"
   ]
  },
  {
   "cell_type": "markdown",
   "metadata": {},
   "source": [
    "### to get an anlyse where each word have exact description\n",
    "*ie:* color, shape..."
   ]
  },
  {
   "cell_type": "code",
   "execution_count": 21,
   "metadata": {},
   "outputs": [
    {
     "name": "stdout",
     "output_type": "stream",
     "text": [
      "full analysing:\n",
      "\n",
      "\tROD, EXTRACT ALLOY 1 /8 (5 LB. PACKAGE)\n",
      "main : ROD\n",
      "NN : ['EXTRACT', 'ALLOY']\n",
      "ref : None\n",
      "sure_sizes : []\n",
      "pkg : {'unit': 'LB', 'quantity': '5', 'type': 'PACKAGE'}\n",
      "nbs : []\n",
      "guess_sizes : [('1/8', 'INCH')]\n",
      "\n"
     ]
    }
   ],
   "source": [
    "def full_analyse(descr):\n",
    "    #get main word\n",
    "    main=get_main(descr)\n",
    "    #get reference\n",
    "    descr, ref = get_reference(descr)\n",
    "    #get package description\n",
    "    pkg={}\n",
    "    descr, pkg[\"quantity\"], pkg[\"unit\"], pkg[\"type\"] = get_package(descr)\n",
    "    if pkg[\"quantity\"]==None and pkg[\"unit\"]==None and pkg[\"type\"]==None:\n",
    "        pkg=None\n",
    "    #get sizes description\n",
    "    descr, sizes = get_sizes(descr)\n",
    "#     if sizes==[]:\n",
    "#         sizes=None\n",
    "    #get unsure sizes/other numbers\n",
    "    descr, guess_sizes, nbs=get_nbs(descr)\n",
    "\n",
    "    #split to words\n",
    "    list_words=split_words(descr)\n",
    "    \n",
    "    #create final dictionary\n",
    "    dic={'main':main, 'ref':ref, 'pkg':pkg, 'sure_sizes':sizes, 'guess_sizes':guess_sizes, 'nbs':nbs}\n",
    "    \n",
    "    \n",
    "    #loop for remaining words\n",
    "    for w in list_words:\n",
    "        if w=='':\n",
    "            pass\n",
    "        elif w=='-':\n",
    "            pass\n",
    "        elif w=='\"':\n",
    "            pass\n",
    "        elif w==main:\n",
    "            pass\n",
    "        else:\n",
    "            ana=word_analyse(w)\n",
    "            try:\n",
    "                dic[ana].append(w)\n",
    "            except:\n",
    "                dic[ana]=[w]\n",
    "    return dic\n",
    "\n",
    "\n",
    "def printed_full_analyse(descr):\n",
    "    print('\\t'+descr)\n",
    "    dic=full_analyse(descr)\n",
    "    for k in dic:\n",
    "        print(k, ':', dic[k])\n",
    "    return dic\n",
    "\n",
    "\n",
    "\n",
    "\n",
    "a=df[\"description\"][4]\n",
    "\n",
    "print(\"full analysing:\\n\")\n",
    "printed_full_analyse(a)\n",
    "print('')"
   ]
  },
  {
   "cell_type": "markdown",
   "metadata": {},
   "source": [
    "#### small useful functions"
   ]
  },
  {
   "cell_type": "code",
   "execution_count": 22,
   "metadata": {
    "collapsed": true
   },
   "outputs": [],
   "source": [
    "# to know if there is a number in the string\n",
    "def has_nb(inputString):\n",
    "    return any(char.isdigit() for char in inputString)\n",
    "# to know if there is not a number in the string\n",
    "def has_no_nb(inputString):\n",
    "    return not any(char.isdigit() for char in inputString)\n",
    "# to know if the string is small\n",
    "def is_short(inputString):\n",
    "    return len(inputString)<3\n",
    "# to know if the string is large\n",
    "def is_long(inputString):\n",
    "    return len(inputString)>=3"
   ]
  },
  {
   "cell_type": "markdown",
   "metadata": {},
   "source": [
    "#### to put together diferent keys of a dictionary"
   ]
  },
  {
   "cell_type": "code",
   "execution_count": 23,
   "metadata": {
    "collapsed": true
   },
   "outputs": [],
   "source": [
    "#an other useful function\n",
    "def put_together(dic, new_key, keys, delete=False, condition=lambda a:True):\n",
    "    dic[new_key]=[]\n",
    "    for k in keys:\n",
    "        try:\n",
    "            dic[k]\n",
    "        except:\n",
    "            pass\n",
    "        else:\n",
    "            for w in dic[k]:\n",
    "                if condition(w):\n",
    "                    dic[new_key].append(w)\n",
    "            if delete:\n",
    "                del dic[k]"
   ]
  },
  {
   "cell_type": "markdown",
   "metadata": {},
   "source": [
    "### to get an analyse where each word has a smart description\n",
    "*ie:* main, reference, package, size..."
   ]
  },
  {
   "cell_type": "code",
   "execution_count": 24,
   "metadata": {},
   "outputs": [
    {
     "name": "stdout",
     "output_type": "stream",
     "text": [
      "analysing: *full*\n",
      "\n",
      "\tROD, EXTRACT ALLOY 1 /8 (5 LB. PACKAGE)\n",
      "main : ROD\n",
      "NN : ['EXTRACT', 'ALLOY']\n",
      "ref : None\n",
      "sure_sizes : []\n",
      "pkg : {'unit': 'LB', 'quantity': '5', 'type': 'PACKAGE'}\n",
      "nbs : []\n",
      "guess_sizes : [('1/8', 'INCH')]\n",
      "\n",
      "\n",
      "analysing: *short*\n",
      "\n",
      "\tROD, EXTRACT ALLOY 1 /8 (5 LB. PACKAGE)\n",
      "sizes : [('1/8', 'INCH')]\n",
      "main : ROD\n",
      "adjectives : ['EXTRACT', 'ALLOY']\n",
      "pkg : {'unit': 'LB', 'quantity': '5', 'type': 'PACKAGE'}\n",
      "\n"
     ]
    }
   ],
   "source": [
    "def short_analyse(descr, join_sizes=True):\n",
    "    dic=full_analyse(descr)\n",
    "    \n",
    "    put_together(dic, 'num', ['CD', 'none'], False, has_nb)\n",
    "    put_together(dic, 'numerical', ['num', 'nbs'], True)\n",
    "    if join_sizes:\n",
    "        put_together(dic, 'sizes', ['sure_sizes', 'guess_sizes'], True)\n",
    "    try:\n",
    "        #del dic['nbs']\n",
    "        del dic['CD']\n",
    "    except:\n",
    "        pass\n",
    "    \n",
    "    \n",
    "    other_keys=list(dic.keys())\n",
    "    for k in ['numerical', 'none', 'main', 'ref', 'pkg', 'sizes', 'sure_sizes', 'guess_sizes']:\n",
    "        if k in other_keys:\n",
    "            other_keys.remove(k)\n",
    "    put_together(dic, 'adjectives', other_keys, False, is_long)\n",
    "    \n",
    "    put_together(dic, 'other1', ['none'], True, has_no_nb)\n",
    "    put_together(dic, 'other2', other_keys, True, is_short)\n",
    "    put_together(dic, 'others', ['other1', 'other2'], True)\n",
    "\n",
    "    return dic\n",
    "\n",
    "def printed_short_analyse(descr):\n",
    "    print('\\t'+descr)\n",
    "    dic=short_analyse(descr)\n",
    "    for k in dic:\n",
    "        if dic[k]!=None and dic[k]!=[]:\n",
    "            print(k, ':', dic[k])\n",
    "    return dic\n",
    "\n",
    "a=df[\"description\"][8651]\n",
    "a=df[\"description\"][4]\n",
    "\n",
    "print(\"analysing: *full*\\n\")\n",
    "printed_full_analyse(a)\n",
    "print(\"\\n\\nanalysing: *short*\\n\")\n",
    "printed_short_analyse(a)\n",
    "print('')"
   ]
  },
  {
   "cell_type": "markdown",
   "metadata": {},
   "source": [
    "## tests of the analyse\n",
    "(testing the smartest one, ie the short one)"
   ]
  },
  {
   "cell_type": "code",
   "execution_count": 25,
   "metadata": {
    "scrolled": false
   },
   "outputs": [
    {
     "name": "stdout",
     "output_type": "stream",
     "text": [
      "\t0\n",
      "\tSTEEL-5/16\" ROUND POLISHED DRILL ROD\n",
      "main : ROD\n",
      "sizes : [('5/16', 'INCH')]\n",
      "adjectives : ['STEEL', 'ROUND', 'DRILL', 'POLISHED']\n",
      "\n",
      "\t1\n",
      "\tDRILL ROD - 1/2\" ROUND POLISHED STEEL\n",
      "main : ROD\n",
      "sizes : [('1/2', 'INCH')]\n",
      "adjectives : ['STEEL', 'DRILL', 'ROUND', 'POLISHED']\n",
      "\n",
      "\t2\n",
      "\tROD-WELDING-CARBON STEEL 1/8\" AWS-A5.18-ER70S-2\n",
      "main : ROD\n",
      "sizes : [('1/8', 'INCH')]\n",
      "adjectives : ['STEEL', 'WELDING', 'CARBON']\n",
      "ref : AWS-A5.18-ER70S-2\n",
      "\n",
      "\t3\n",
      "\tROD,EXTRACT ALLOY 3/ 32 (5LB. PACKAGE)\n",
      "sizes : [('3/32', 'INCH')]\n",
      "main : ROD\n",
      "adjectives : ['EXTRACT', 'ALLOY']\n",
      "pkg : {'unit': 'LB', 'quantity': '5', 'type': 'PACKAGE'}\n",
      "\n",
      "\t4\n",
      "\tROD, EXTRACT ALLOY 1 /8 (5 LB. PACKAGE)\n",
      "sizes : [('1/8', 'INCH')]\n",
      "main : ROD\n",
      "adjectives : ['EXTRACT', 'ALLOY']\n",
      "pkg : {'unit': 'LB', 'quantity': '5', 'type': 'PACKAGE'}\n",
      "\n"
     ]
    }
   ],
   "source": [
    "for i in [0,1,2,3,4]:\n",
    "    print('\\t'+str(i))\n",
    "    a=df[\"description\"][i]\n",
    "    printed_short_analyse(a)\n",
    "    print('')\n"
   ]
  },
  {
   "cell_type": "code",
   "execution_count": 26,
   "metadata": {},
   "outputs": [
    {
     "name": "stdout",
     "output_type": "stream",
     "text": [
      "\t5\n",
      "\tWIRE WELDING - 1/8 X .660 NH TM AC/DC ELECTRODE\n",
      "main : WIRE\n",
      "others : ['AC/DC', 'X', 'TM']\n",
      "sizes : [('.660', 'NH')]\n",
      "numerical : ['1/8']\n",
      "adjectives : ['WELDING', 'ELECTRODE']\n",
      "\n",
      "\t20\n",
      "\tROD 5/32 STEEL WELDING HOBART\n",
      "main : HOBART\n",
      "numerical : ['5/32']\n",
      "adjectives : ['STEEL', 'WELDING', 'ROD']\n",
      "\n",
      "\t50\n",
      "\tROD-WELDING ALUMINUM 3/32\" AWS-A5.3 E4043\n",
      "main : ROD\n",
      "sizes : [('3/32', 'INCH')]\n",
      "adjectives : ['ALUMINUM', 'WELDING']\n",
      "ref : AWS-A5.3 E4043\n",
      "\n",
      "\t100\n",
      "\tCABLE-14 GAUGE BLUE AUTOMOTIVE PRIMARY WIRE 100/ROLL\n",
      "main : CABLE\n",
      "sizes : [('14', 'FARADE')]\n",
      "adjectives : ['GAUGE', 'PRIMARY', 'WIRE', 'BLUE', 'AUTOMOTIVE']\n",
      "pkg : {'unit': None, 'quantity': '100/', 'type': 'ROLL'}\n",
      "\n",
      "\t5000\n",
      "\tSCREWDRIVER-#2 PHILLIPS HEAD 4IN. BLADE\n",
      "main : SCREWDRIVER\n",
      "numerical : ['2']\n",
      "others : ['#PHILLIPS']\n",
      "sizes : [('4', 'INCH')]\n",
      "adjectives : ['HEAD', 'BLADE']\n",
      "\n"
     ]
    }
   ],
   "source": [
    "for i in [5,20,50,100,5000]:\n",
    "    print('\\t'+str(i))\n",
    "    a=df[\"description\"][i]\n",
    "    printed_short_analyse(a)\n",
    "    print('')\n"
   ]
  },
  {
   "cell_type": "code",
   "execution_count": 27,
   "metadata": {},
   "outputs": [
    {
     "name": "stdout",
     "output_type": "stream",
     "text": [
      "\t10000\n",
      "\tCONNECTOR BUTT 2/0 2/0 H.D. (PK)\n",
      "main : BUTT\n",
      "others : ['H.D.', '(PK)']\n",
      "numerical : ['2/02/0']\n",
      "adjectives : ['CONNECTOR']\n",
      "\n",
      "\t15000\n",
      "\tLOCK LEVER, ISLAND HOUSING, VACUUM ISLAND FAREBOX\n",
      "main : LEVER\n",
      "others : ['FAREBOX']\n",
      "adjectives : ['LOCK', 'ISLAND', 'HOUSING', 'VACUUM', 'ISLAND']\n",
      "\n",
      "\t20000\n",
      "\t\" L\" LINK\n",
      "main : LINK\n",
      "others : ['L\"']\n",
      "\n",
      "\t25000\n",
      "\tMOTOR WITH INTERNAL DRIVE, FOR BOOSTER\n",
      "main : MOTOR\n",
      "others : ['WITH', 'FOR']\n",
      "adjectives : ['INTERNAL', 'DRIVE', 'BOOSTER']\n",
      "\n",
      "\t30000\n",
      "\tBATTERIES 6-VOLT SPRING TERMINALS NEDA TYPE 908\n",
      "main : BATTERIES\n",
      "others : ['OLT', 'NEDA']\n",
      "sizes : [('6', 'VOLT')]\n",
      "numerical : ['908']\n",
      "adjectives : ['TERMINALS', 'SPRING', 'TYPE']\n",
      "\n"
     ]
    }
   ],
   "source": [
    "for i in [10000,15000,20000,25000,30000]:\n",
    "    print('\\t'+str(i))\n",
    "    a=df[\"description\"][i]\n",
    "    printed_short_analyse(a)\n",
    "    print('')\n"
   ]
  },
  {
   "cell_type": "markdown",
   "metadata": {
    "collapsed": true
   },
   "source": [
    "# design metric distance"
   ]
  },
  {
   "cell_type": "code",
   "execution_count": 28,
   "metadata": {
    "collapsed": true
   },
   "outputs": [],
   "source": [
    "def metric(descr1, descr2):\n",
    "    d=0\n",
    "    add=1\n",
    "    ana1=short_analyse(descr1)\n",
    "    ana2=short_analyse(descr2)\n",
    "    #main word\n",
    "    if ana1['main']!=ana2['main']:\n",
    "        d+=1\n",
    "    else:\n",
    "        add*=0.5\n",
    "    #adjectives\n",
    "    if ana1['adjectives'] is None or ana2['adjectives'] is None:\n",
    "        d+=add\n",
    "    else:\n",
    "        for adj1 in ana1['adjectives']:\n",
    "            for adj2 in ana2['adjectives']:\n",
    "                if adj1==adj2:\n",
    "                    d+=0\n",
    "                else:\n",
    "                    d+=add*edit_distance(adj1, adj2)/(len(adj1)+len(adj2))/(len(ana1['adjectives'])*len(ana2['adjectives']))\n",
    "    #sizes\n",
    "    if ana1['sizes'] is None or ana2['sizes'] is None:\n",
    "        d+=add\n",
    "    else:\n",
    "        for size1 in ana1['sizes']:\n",
    "            for size2 in ana2['sizes']:\n",
    "                if size1[1]==size2[1]:\n",
    "                    if size1[0]==size2[0]:\n",
    "                        d+=add*0.3/(len(ana1['sizes'])*len(ana2['sizes']))\n",
    "                    else:\n",
    "                        d+=add*0.6/(len(ana1['sizes'])*len(ana2['sizes']))\n",
    "                else:\n",
    "                    d+=add/(len(ana1['sizes'])*len(ana2['sizes']))\n",
    "    #package\n",
    "    if ana1['pkg'] is None or ana2['pkg'] is None:\n",
    "        d+=add\n",
    "    else:\n",
    "        for pkg1 in ana1['pkg']:\n",
    "            for pkg2 in ana2['pkg']:\n",
    "                if pkg1[1]==pkg2[1]:\n",
    "                    if pkg1[0]==pkg2[0]:\n",
    "                        d+=add*0.3/(len(ana1['pkg'])*len(ana2['pkg']))\n",
    "                    else:\n",
    "                        d+=add*0.6/(len(ana1['pkg'])*len(ana2['pkg']))\n",
    "                else:\n",
    "                    d+=add/(len(ana1['pkg'])*len(ana2['pkg']))\n",
    "    return d\n",
    "                \n",
    "    "
   ]
  },
  {
   "cell_type": "code",
   "execution_count": 29,
   "metadata": {},
   "outputs": [
    {
     "name": "stdout",
     "output_type": "stream",
     "text": [
      "\t\t1-1\n",
      "DRILL ROD - 1/2\" ROUND POLISHED STEEL\n",
      "DRILL ROD - 1/2\" ROUND POLISHED STEEL\n",
      "\td=0.8336538461538461\n",
      "\n",
      "\t\t1-2\n",
      "DRILL ROD - 1/2\" ROUND POLISHED STEEL\n",
      "ROD-WELDING-CARBON STEEL 1/8\" AWS-A5.18-ER70S-2\n",
      "\td=1.0297681485181485\n",
      "\n",
      "\t\t1-5\n",
      "DRILL ROD - 1/2\" ROUND POLISHED STEEL\n",
      "WIRE WELDING - 1/8 X .660 NH TM AC/DC ELECTRODE\n",
      "\td=3.529359243697479\n",
      "\n",
      "\t\t1-10\n",
      "DRILL ROD - 1/2\" ROUND POLISHED STEEL\n",
      "ROD-WELDING, COPPER 1/8\" AWS-A5.27-RCUZN-B\n",
      "\td=1.045819805194805\n",
      "\n",
      "\t\t1-25\n",
      "DRILL ROD - 1/2\" ROUND POLISHED STEEL\n",
      "ALLOY-1/8 CERTANIUM 70F FLUX COATED HI STRENGTH\n",
      "\td=3.2851005476005475\n",
      "\n",
      "\t\t5-10\n",
      "WIRE WELDING - 1/8 X .660 NH TM AC/DC ELECTRODE\n",
      "ROD-WELDING, COPPER 1/8\" AWS-A5.27-RCUZN-B\n",
      "\td=3.392948717948718\n",
      "\n",
      "\t\t5-50\n",
      "WIRE WELDING - 1/8 X .660 NH TM AC/DC ELECTRODE\n",
      "ROD-WELDING ALUMINUM 3/32\" AWS-A5.3 E4043\n",
      "\td=3.3426470588235295\n",
      "\n",
      "\t\t5-500\n",
      "WIRE WELDING - 1/8 X .660 NH TM AC/DC ELECTRODE\n",
      "WASHER - LOCK SPLIT RING 5/8 GD 8 ZINC YELLOW 100/PK\n",
      "\td=3.497224442224442\n",
      "\n"
     ]
    }
   ],
   "source": [
    "for i, j in [(1,1),(1,2),(1,5),(1,10),(1,25),(5,10),(5,50),(5,500)]:\n",
    "    print('\\t\\t'+str(i)+'-'+str(j))\n",
    "    a=df[\"description\"][i]\n",
    "    b=df[\"description\"][j]\n",
    "    print(a)\n",
    "    print(b)\n",
    "    print('\\td='+str(metric(a,b)))\n",
    "    print()"
   ]
  },
  {
   "cell_type": "code",
   "execution_count": null,
   "metadata": {
    "collapsed": true
   },
   "outputs": [],
   "source": []
  },
  {
   "cell_type": "markdown",
   "metadata": {},
   "source": [
    "# clustering part"
   ]
  },
  {
   "cell_type": "markdown",
   "metadata": {},
   "source": [
    "#### importations & data representation"
   ]
  },
  {
   "cell_type": "code",
   "execution_count": 30,
   "metadata": {
    "collapsed": true
   },
   "outputs": [],
   "source": [
    "# needed imports\n",
    "from matplotlib import pyplot as plt\n",
    "from scipy.cluster.hierarchy import dendrogram, linkage\n",
    "from scipy.cluster.hierarchy import fclusterdata\n",
    "from scipy.cluster.hierarchy import cophenet\n",
    "from scipy.spatial.distance import pdist"
   ]
  },
  {
   "cell_type": "code",
   "execution_count": 31,
   "metadata": {},
   "outputs": [
    {
     "name": "stdout",
     "output_type": "stream",
     "text": [
      "Data\n",
      "['STEEL-5/16\" ROUND POLISHED DRILL ROD'\n",
      " 'DRILL ROD - 1/2\" ROUND POLISHED STEEL'\n",
      " 'ROD-WELDING-CARBON STEEL 1/8\" AWS-A5.18-ER70S-2' ...,\n",
      " 'VALVE 3 WAY SOLENOID WTR WASH CONTRL ASSY IDP 6499'\n",
      " 'FILTER - WATER WASH CONTROL IPD 6499' 'OIL-REGAL NO.46 R AN D O TURBINE']\n",
      "\n",
      "Data will be represented by index n the df (as we can only classify nubers)\n",
      "\n",
      "New Data:\n",
      "[[    0     1]\n",
      " [    1     1]\n",
      " [    2     1]\n",
      " ..., \n",
      " [32994     1]\n",
      " [32995     1]\n",
      " [32996     1]]\n"
     ]
    }
   ],
   "source": [
    "#brute\n",
    "print('Data')\n",
    "X=np.array(df['description'])\n",
    "print(X)\n",
    "#formated\n",
    "print('\\nData will be represented by index n the df (as we can only classify nubers)\\n\\nNew Data:')\n",
    "X=np.array([(i,1) for i in range(len(df))])\n",
    "print(X)"
   ]
  },
  {
   "cell_type": "code",
   "execution_count": 32,
   "metadata": {
    "collapsed": true
   },
   "outputs": [],
   "source": [
    "# a custom function that just computes distance between two index (due to specific data represetation)\n",
    "def mydist(p1, p2):\n",
    "    a=df[\"description\"][p1[0]]\n",
    "    b=df[\"description\"][p2[0]]\n",
    "    return metric(a,b)"
   ]
  },
  {
   "cell_type": "markdown",
   "metadata": {},
   "source": [
    "### Take only few rows to save computation time"
   ]
  },
  {
   "cell_type": "code",
   "execution_count": 33,
   "metadata": {
    "scrolled": true
   },
   "outputs": [
    {
     "data": {
      "text/plain": [
       "array([[  0,   1],\n",
       "       [  1,   1],\n",
       "       [  2,   1],\n",
       "       [  3,   1],\n",
       "       [  4,   1],\n",
       "       [  5,   1],\n",
       "       [  6,   1],\n",
       "       [  7,   1],\n",
       "       [  8,   1],\n",
       "       [  9,   1],\n",
       "       [ 10,   1],\n",
       "       [ 11,   1],\n",
       "       [ 12,   1],\n",
       "       [ 13,   1],\n",
       "       [ 14,   1],\n",
       "       [ 15,   1],\n",
       "       [ 16,   1],\n",
       "       [ 17,   1],\n",
       "       [ 18,   1],\n",
       "       [ 19,   1],\n",
       "       [ 20,   1],\n",
       "       [ 21,   1],\n",
       "       [ 22,   1],\n",
       "       [ 23,   1],\n",
       "       [ 24,   1],\n",
       "       [ 25,   1],\n",
       "       [ 26,   1],\n",
       "       [ 27,   1],\n",
       "       [ 28,   1],\n",
       "       [ 29,   1],\n",
       "       [ 30,   1],\n",
       "       [ 31,   1],\n",
       "       [ 32,   1],\n",
       "       [ 33,   1],\n",
       "       [ 34,   1],\n",
       "       [ 35,   1],\n",
       "       [ 36,   1],\n",
       "       [ 37,   1],\n",
       "       [ 38,   1],\n",
       "       [ 39,   1],\n",
       "       [ 40,   1],\n",
       "       [ 41,   1],\n",
       "       [ 42,   1],\n",
       "       [ 43,   1],\n",
       "       [ 44,   1],\n",
       "       [ 45,   1],\n",
       "       [ 46,   1],\n",
       "       [ 47,   1],\n",
       "       [ 48,   1],\n",
       "       [ 49,   1],\n",
       "       [ 50,   1],\n",
       "       [ 51,   1],\n",
       "       [ 52,   1],\n",
       "       [ 53,   1],\n",
       "       [ 54,   1],\n",
       "       [ 55,   1],\n",
       "       [ 56,   1],\n",
       "       [ 57,   1],\n",
       "       [ 58,   1],\n",
       "       [ 59,   1],\n",
       "       [ 60,   1],\n",
       "       [ 61,   1],\n",
       "       [ 62,   1],\n",
       "       [ 63,   1],\n",
       "       [ 64,   1],\n",
       "       [ 65,   1],\n",
       "       [ 66,   1],\n",
       "       [ 67,   1],\n",
       "       [ 68,   1],\n",
       "       [ 69,   1],\n",
       "       [ 70,   1],\n",
       "       [ 71,   1],\n",
       "       [ 72,   1],\n",
       "       [ 73,   1],\n",
       "       [ 74,   1],\n",
       "       [ 75,   1],\n",
       "       [ 76,   1],\n",
       "       [ 77,   1],\n",
       "       [ 78,   1],\n",
       "       [ 79,   1],\n",
       "       [ 80,   1],\n",
       "       [ 81,   1],\n",
       "       [ 82,   1],\n",
       "       [ 83,   1],\n",
       "       [ 84,   1],\n",
       "       [ 85,   1],\n",
       "       [ 86,   1],\n",
       "       [ 87,   1],\n",
       "       [ 88,   1],\n",
       "       [ 89,   1],\n",
       "       [ 90,   1],\n",
       "       [ 91,   1],\n",
       "       [ 92,   1],\n",
       "       [ 93,   1],\n",
       "       [ 94,   1],\n",
       "       [ 95,   1],\n",
       "       [ 96,   1],\n",
       "       [ 97,   1],\n",
       "       [ 98,   1],\n",
       "       [ 99,   1],\n",
       "       [100,   1],\n",
       "       [101,   1],\n",
       "       [102,   1],\n",
       "       [103,   1],\n",
       "       [104,   1],\n",
       "       [105,   1],\n",
       "       [106,   1],\n",
       "       [107,   1],\n",
       "       [108,   1],\n",
       "       [109,   1],\n",
       "       [110,   1],\n",
       "       [111,   1],\n",
       "       [112,   1],\n",
       "       [113,   1],\n",
       "       [114,   1],\n",
       "       [115,   1],\n",
       "       [116,   1],\n",
       "       [117,   1],\n",
       "       [118,   1],\n",
       "       [119,   1],\n",
       "       [120,   1],\n",
       "       [121,   1],\n",
       "       [122,   1],\n",
       "       [123,   1],\n",
       "       [124,   1],\n",
       "       [125,   1],\n",
       "       [126,   1],\n",
       "       [127,   1],\n",
       "       [128,   1],\n",
       "       [129,   1],\n",
       "       [130,   1],\n",
       "       [131,   1],\n",
       "       [132,   1],\n",
       "       [133,   1],\n",
       "       [134,   1],\n",
       "       [135,   1],\n",
       "       [136,   1],\n",
       "       [137,   1],\n",
       "       [138,   1],\n",
       "       [139,   1],\n",
       "       [140,   1],\n",
       "       [141,   1],\n",
       "       [142,   1],\n",
       "       [143,   1],\n",
       "       [144,   1],\n",
       "       [145,   1],\n",
       "       [146,   1],\n",
       "       [147,   1],\n",
       "       [148,   1],\n",
       "       [149,   1],\n",
       "       [150,   1],\n",
       "       [151,   1],\n",
       "       [152,   1],\n",
       "       [153,   1],\n",
       "       [154,   1],\n",
       "       [155,   1],\n",
       "       [156,   1],\n",
       "       [157,   1],\n",
       "       [158,   1],\n",
       "       [159,   1],\n",
       "       [160,   1],\n",
       "       [161,   1],\n",
       "       [162,   1],\n",
       "       [163,   1],\n",
       "       [164,   1],\n",
       "       [165,   1],\n",
       "       [166,   1],\n",
       "       [167,   1],\n",
       "       [168,   1],\n",
       "       [169,   1],\n",
       "       [170,   1],\n",
       "       [171,   1],\n",
       "       [172,   1],\n",
       "       [173,   1],\n",
       "       [174,   1],\n",
       "       [175,   1],\n",
       "       [176,   1],\n",
       "       [177,   1],\n",
       "       [178,   1],\n",
       "       [179,   1],\n",
       "       [180,   1],\n",
       "       [181,   1],\n",
       "       [182,   1],\n",
       "       [183,   1],\n",
       "       [184,   1],\n",
       "       [185,   1],\n",
       "       [186,   1],\n",
       "       [187,   1],\n",
       "       [188,   1],\n",
       "       [189,   1],\n",
       "       [190,   1],\n",
       "       [191,   1],\n",
       "       [192,   1],\n",
       "       [193,   1],\n",
       "       [194,   1],\n",
       "       [195,   1],\n",
       "       [196,   1],\n",
       "       [197,   1],\n",
       "       [198,   1],\n",
       "       [199,   1]])"
      ]
     },
     "execution_count": 33,
     "metadata": {},
     "output_type": "execute_result"
    }
   ],
   "source": [
    "nb=200\n",
    "y=X[:nb]\n",
    "#if want full data, un-comment the following line:\n",
    "#y=X\n",
    "y"
   ]
  },
  {
   "cell_type": "markdown",
   "metadata": {},
   "source": [
    " "
   ]
  },
  {
   "cell_type": "markdown",
   "metadata": {},
   "source": [
    "## starts clustering"
   ]
  },
  {
   "cell_type": "markdown",
   "metadata": {},
   "source": [
    "### clustering dendrogram\n",
    "**=> useful to know how data behaves**"
   ]
  },
  {
   "cell_type": "code",
   "execution_count": 34,
   "metadata": {},
   "outputs": [
    {
     "name": "stdout",
     "output_type": "stream",
     "text": [
      "200 rows...\n"
     ]
    }
   ],
   "source": [
    "### compute linkage matrix\n",
    "print(len(y), 'rows...')\n",
    "Z = linkage(y, 'complete', metric=mydist)\n",
    "#see https://docs.scipy.org/doc/scipy/reference/generated/scipy.cluster.hierarchy.linkage.html"
   ]
  },
  {
   "cell_type": "code",
   "execution_count": 35,
   "metadata": {},
   "outputs": [
    {
     "data": {
      "image/png": "[encoded data removed]",
      "text/plain": [
       "<matplotlib.figure.Figure at 0x1c86adb1b38>"
      ]
     },
     "metadata": {},
     "output_type": "display_data"
    }
   ],
   "source": [
    "plt.figure(figsize=(15, 6))\n",
    "plt.title('Hierarchical Clustering Dendrogram')\n",
    "plt.xlabel('sample index')\n",
    "plt.ylabel('distance')\n",
    "dendrogram(\n",
    "    Z,\n",
    "    truncate_mode='none',  # show only the last p merged clusters\n",
    "    p=12,  # show only the last p merged clusters, if  truncate_mode='lastp'\n",
    "    leaf_rotation=30., # (display) rotation of numbers on x-axis\n",
    "    leaf_font_size=7., # (display) size numbers on x-axis\n",
    ")\n",
    "#see https://docs.scipy.org/doc/scipy-0.14.0/reference/generated/scipy.cluster.hierarchy.dendrogram.html\n",
    "plt.show()"
   ]
  },
  {
   "cell_type": "markdown",
   "metadata": {},
   "source": [
    "=> cool graph ;)"
   ]
  },
  {
   "cell_type": "code",
   "execution_count": 36,
   "metadata": {
    "collapsed": true
   },
   "outputs": [],
   "source": [
    "def fancy_dendrogram(*args, **kwargs):\n",
    "    max_d = kwargs.pop('max_d', None)\n",
    "    if max_d and 'color_threshold' not in kwargs:\n",
    "        kwargs['color_threshold'] = max_d\n",
    "    annotate_above = kwargs.pop('annotate_above', 0)\n",
    "\n",
    "    ddata = dendrogram(*args, **kwargs)\n",
    "\n",
    "    if not kwargs.get('no_plot', False):\n",
    "        plt.title('Hierarchical Clustering Dendrogram (truncated)')\n",
    "        plt.xlabel('sample index or (cluster size)')\n",
    "        plt.ylabel('distance')\n",
    "        for i, d, c in zip(ddata['icoord'], ddata['dcoord'], ddata['color_list']):\n",
    "            x = 0.5 * sum(i[1:3])\n",
    "            y = d[1]\n",
    "            if y > annotate_above:\n",
    "                plt.plot(x, y, 'o', c=c)\n",
    "                plt.annotate(\"%.3g\" % y, (x, y), xytext=(0, -5),\n",
    "                             textcoords='offset points',\n",
    "                             va='top', ha='center')\n",
    "        if max_d:\n",
    "            plt.axhline(y=max_d, c='k')\n",
    "    return ddata"
   ]
  },
  {
   "cell_type": "code",
   "execution_count": 37,
   "metadata": {},
   "outputs": [
    {
     "data": {
      "image/png": "[encoded data removed]",
      "text/plain": [
       "<matplotlib.figure.Figure at 0x1c86b45d9b0>"
      ]
     },
     "metadata": {},
     "output_type": "display_data"
    }
   ],
   "source": [
    "plt.figure(figsize=(15, 6))\n",
    "plt.title('Hierarchical Clustering Dendrogram')\n",
    "plt.xlabel('sample index')\n",
    "plt.ylabel('distance')\n",
    "fancy_dendrogram(\n",
    "    Z,\n",
    "    truncate_mode='none',  # show only the last p merged clusters\n",
    "    p=12,  # show only the last p merged clusters, if  truncate_mode='lastp'\n",
    "    leaf_rotation=30., # (display) rotation of numbers on x-axis\n",
    "    leaf_font_size=7., # (display) size numbers on x-axis\n",
    "    annotate_above=40,\n",
    "    show_contracted=True,\n",
    "    max_d=3,\n",
    ")\n",
    "plt.show()"
   ]
  },
  {
   "cell_type": "markdown",
   "metadata": {},
   "source": [
    "=> should we make goups of distance at most 3?"
   ]
  },
  {
   "cell_type": "code",
   "execution_count": null,
   "metadata": {
    "collapsed": true
   },
   "outputs": [],
   "source": []
  },
  {
   "cell_type": "markdown",
   "metadata": {},
   "source": [
    "## clustering..."
   ]
  },
  {
   "cell_type": "markdown",
   "metadata": {},
   "source": [
    "### ...with maximum distance between groups"
   ]
  },
  {
   "cell_type": "code",
   "execution_count": 38,
   "metadata": {},
   "outputs": [
    {
     "data": {
      "text/plain": [
       "array([11, 11, 11, 11, 11,  7, 11, 11, 11, 11, 11, 11, 11, 11, 11, 10, 10,\n",
       "       10, 10, 10, 12, 11, 11, 11, 11,  5,  5, 11, 11, 10, 11, 11, 11, 11,\n",
       "       11, 11, 11, 11, 11, 11, 11, 11, 11, 11, 11, 11, 11, 11, 11, 11, 11,\n",
       "       11, 11, 13,  9,  9,  7,  7,  4,  4,  5, 14, 15, 11, 11,  8,  8,  8,\n",
       "        8,  8,  8,  8,  8,  8,  8,  8,  8,  8,  8,  8,  8,  8,  8,  8,  7,\n",
       "        7,  7,  7,  7,  7,  7,  2,  2,  7,  7,  7,  7,  6,  6,  6,  6,  6,\n",
       "        6,  6,  6,  6,  6,  6,  6,  6,  6,  7,  6,  6,  6,  6,  6,  6,  6,\n",
       "        6,  6,  6,  6,  6,  6,  6,  6,  6,  6,  6,  6,  6,  6,  6,  7, 16,\n",
       "        7,  7,  7,  6,  7,  7,  6,  6,  6,  6,  6,  6,  6,  6,  3,  7,  7,\n",
       "        7, 17,  7,  7,  7,  7,  7,  7,  7,  7,  7,  7,  7,  7,  7,  7,  6,\n",
       "        7,  7,  7,  7,  1,  1,  7,  7,  7,  7,  7,  7,  7,  7,  7,  7,  7,\n",
       "        7,  7,  7,  7,  7,  7,  7,  7,  7,  7,  7,  7,  7], dtype=int32)"
      ]
     },
     "execution_count": 38,
     "metadata": {},
     "output_type": "execute_result"
    }
   ],
   "source": [
    "fclust = fclusterdata(y, 1.0, metric=mydist, criterion='distance') # makes groups of distance at most 0.9\n",
    "#see https://docs.scipy.org/doc/scipy-0.15.1/reference/generated/scipy.cluster.hierarchy.fclusterdata.html\n",
    "\n",
    "fclust"
   ]
  },
  {
   "cell_type": "code",
   "execution_count": 39,
   "metadata": {},
   "outputs": [
    {
     "data": {
      "image/png": "[encoded data removed]",
      "text/plain": [
       "<matplotlib.figure.Figure at 0x1c86b4455f8>"
      ]
     },
     "metadata": {},
     "output_type": "display_data"
    }
   ],
   "source": [
    "plt.figure(figsize=(25, 2))\n",
    "plt.scatter(X[:nb,0], X[:nb,1], c=fclust, cmap='prism')  # plot points with cluster dependent colors\n",
    "plt.show()"
   ]
  },
  {
   "cell_type": "markdown",
   "metadata": {},
   "source": [
    "=> good result"
   ]
  },
  {
   "cell_type": "markdown",
   "metadata": {},
   "source": [
    "### ...with maximum distance in a group"
   ]
  },
  {
   "cell_type": "code",
   "execution_count": 40,
   "metadata": {},
   "outputs": [
    {
     "data": {
      "text/plain": [
       "array([1, 1, 1, 1, 1, 1, 1, 1, 1, 1, 1, 1, 1, 1, 1, 1, 1, 1, 1, 1, 1, 1, 1,\n",
       "       1, 1, 1, 1, 1, 1, 1, 1, 1, 1, 1, 1, 1, 1, 1, 1, 1, 1, 1, 1, 1, 1, 1,\n",
       "       1, 1, 1, 1, 1, 1, 1, 1, 1, 1, 1, 1, 1, 1, 1, 1, 1, 1, 1, 1, 1, 1, 1,\n",
       "       1, 1, 1, 1, 1, 1, 1, 1, 1, 1, 1, 1, 1, 1, 1, 1, 1, 1, 1, 1, 1, 1, 1,\n",
       "       1, 1, 1, 1, 1, 1, 1, 1, 1, 1, 1, 1, 1, 1, 1, 1, 1, 1, 1, 1, 1, 1, 1,\n",
       "       1, 1, 1, 1, 1, 1, 1, 1, 1, 1, 1, 1, 1, 1, 1, 1, 1, 1, 1, 1, 1, 1, 1,\n",
       "       1, 1, 1, 1, 1, 1, 1, 1, 1, 1, 1, 1, 1, 1, 1, 1, 1, 1, 1, 1, 1, 1, 1,\n",
       "       1, 1, 1, 1, 1, 1, 1, 1, 1, 1, 1, 1, 1, 1, 1, 1, 1, 1, 1, 1, 1, 1, 1,\n",
       "       1, 1, 1, 1, 1, 1, 1, 1, 1, 1, 1, 1, 1, 1, 1, 1], dtype=int32)"
      ]
     },
     "execution_count": 40,
     "metadata": {},
     "output_type": "execute_result"
    }
   ],
   "source": [
    "fclust = fclusterdata(y, 2, metric=mydist, criterion='maxclust') # makes groups with distance max between elements of a group\n",
    "fclust"
   ]
  },
  {
   "cell_type": "code",
   "execution_count": 41,
   "metadata": {},
   "outputs": [
    {
     "data": {
      "image/png": "[encoded data removed]",
      "text/plain": [
       "<matplotlib.figure.Figure at 0x1c86ca47be0>"
      ]
     },
     "metadata": {},
     "output_type": "display_data"
    }
   ],
   "source": [
    "plt.figure(figsize=(25, 2))\n",
    "plt.scatter(X[:nb,0], X[:nb,1], c=fclust, cmap='prism')  # plot points with cluster dependent colors\n",
    "plt.show()"
   ]
  },
  {
   "cell_type": "markdown",
   "metadata": {},
   "source": [
    "=> not working very well"
   ]
  },
  {
   "cell_type": "code",
   "execution_count": null,
   "metadata": {
    "collapsed": true
   },
   "outputs": [],
   "source": []
  },
  {
   "cell_type": "code",
   "execution_count": null,
   "metadata": {
    "collapsed": true
   },
   "outputs": [],
   "source": []
  },
  {
   "cell_type": "code",
   "execution_count": null,
   "metadata": {
    "collapsed": true
   },
   "outputs": [],
   "source": []
  }
 ],
 "metadata": {
  "kernelspec": {
   "display_name": "Python 3",
   "language": "python",
   "name": "python3"
  },
  "language_info": {
   "codemirror_mode": {
    "name": "ipython",
    "version": 3
   },
   "file_extension": ".py",
   "mimetype": "text/x-python",
   "name": "python",
   "nbconvert_exporter": "python",
   "pygments_lexer": "ipython3",
   "version": "3.5.3"
  }
 },
 "nbformat": 4,
 "nbformat_minor": 2
}
