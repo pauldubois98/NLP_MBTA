{
 "cells": [
  {
   "cell_type": "markdown",
   "metadata": {},
   "source": [
    "# getting more materials from Oxford dictinary API"
   ]
  },
  {
   "cell_type": "markdown",
   "metadata": {},
   "source": [
    "### one axample"
   ]
  },
  {
   "cell_type": "code",
   "execution_count": 33,
   "metadata": {
    "collapsed": true
   },
   "outputs": [],
   "source": [
    "# for more information on how to install requests\n",
    "# http://docs.python-requests.org/en/master/user/install/#install\n",
    "import requests\n",
    "import json"
   ]
  },
  {
   "cell_type": "code",
   "execution_count": 36,
   "metadata": {},
   "outputs": [
    {
     "name": "stdout",
     "output_type": "stream",
     "text": [
      "id:c4e79231\n",
      "key:59ca1a28479d6de9e951d143d62bdb32\n"
     ]
    }
   ],
   "source": [
    "# input is & key\n",
    "app_id = input('id:') #'c4e79231'\n",
    "app_key = input('key:') #'59ca1a28479d6de9e951d143d62bdb32'"
   ]
  },
  {
   "cell_type": "markdown",
   "metadata": {},
   "source": [
    "## function that grabs synonyms"
   ]
  },
  {
   "cell_type": "code",
   "execution_count": 49,
   "metadata": {},
   "outputs": [
    {
     "name": "stdout",
     "output_type": "stream",
     "text": [
      "Synonyms of \"wood\" are:\n",
      "['timber', 'planks', 'planking']\n"
     ]
    }
   ],
   "source": [
    "def get_synonyms(word_id, language='en'):\n",
    "    url = 'https://od-api.oxforddictionaries.com:443/api/v1/entries/' + language + '/' + word_id.lower() + '/synonyms'\n",
    "    r = requests.get(url, headers = {'app_id': app_id, 'app_key': app_key})\n",
    "    l=r.json()['results'][0]['lexicalEntries'][0]['entries'][0]['senses'][0]['synonyms']\n",
    "    return [l[i]['id'] for i in range(len(l))]\n",
    "\n",
    "\n",
    "\n",
    "word_id='wood'\n",
    "\n",
    "print('Synonyms of \"'+word_id+'\" are:')\n",
    "print(get_synonyms(word_id))"
   ]
  },
  {
   "cell_type": "markdown",
   "metadata": {},
   "source": [
    "### grab synonims of each material to have a bigger list of materials"
   ]
  },
  {
   "cell_type": "code",
   "execution_count": 28,
   "metadata": {},
   "outputs": [],
   "source": [
    "file=open('materials.txt', 'r')\n",
    "materials_list=file.read().split(',')\n",
    "file.close()"
   ]
  },
  {
   "cell_type": "code",
   "execution_count": 50,
   "metadata": {
    "scrolled": false
   },
   "outputs": [
    {
     "name": "stdout",
     "output_type": "stream",
     "text": [
      "no synonyms with: adobe\n",
      "brick ['block', 'cube', 'slab', 'bar', 'cake']\n",
      "no synonyms with: matting\n",
      "no synonyms with: sod\n",
      "stone ['rock', 'pebble', 'boulder']\n",
      "timber ['wood', 'logs', 'firewood']\n",
      "no synonyms with: wattle\n",
      "no synonyms with: aluminum\n",
      "no synonyms with: antimony\n",
      "no synonyms with: bismuth\n",
      "no synonyms with: cobalt\n",
      "no synonyms with: brass\n",
      "no synonyms with: copper\n",
      "no synonyms with: zinc\n",
      "bronze ['bronze_medal', 'third_prize']\n",
      "no synonyms with: copper\n",
      "no synonyms with: electrum\n",
      "gold ['gold_medal', 'first_prize']\n",
      "iron ['strength', 'toughness', 'resilience', 'fortitude', 'firmness', 'robustness', 'hardiness', 'steel']\n",
      "no synonyms with: nickel\n",
      "no synonyms with: cobalt\n",
      "no synonyms with: latten\n",
      "lead ['guide', 'conduct', 'show', 'show_someone_the_way', 'lead_the_way', 'usher', 'escort', 'steer', 'pilot', 'marshal', 'shepherd']\n",
      "no synonyms with: lodestone\n",
      "no synonyms with: magnesium\n",
      "no synonyms with: mercury\n",
      "no synonyms with: nickel\n",
      "no synonyms with: pewter\n",
      "no synonyms with: platinum\n",
      "silver ['silverware', 'plate', 'silver_plate']\n",
      "no synonyms with: steel\n",
      "no synonyms with: tin\n",
      "no synonyms with: titanium\n",
      "no synonyms with: zinc\n",
      "no synonyms with: platinum\n",
      "gold ['gold_medal', 'first_prize']\n",
      "no synonyms with: electrum\n",
      "silver ['silverware', 'plate', 'silver_plate']\n",
      "no synonyms with: nickel\n",
      "no synonyms with: copper\n",
      "bronze ['bronze_medal', 'third_prize']\n",
      "no synonyms with: adamantite\n",
      "no synonyms with: adamantium\n",
      "no synonyms with: mithril\n",
      "no synonyms with: oracalc\n",
      "no synonyms with: oracalcum\n",
      "no synonyms with: tilferium\n",
      "no synonyms with: xagium\n",
      "no synonyms with: adamantite\n",
      "no synonyms with: mithril\n",
      "no synonyms with: oracalcum\n",
      "no synonyms with: tilferium\n",
      "no synonyms with: xagium\n",
      "no synonyms with: alder\n",
      "no synonyms with: balsa\n",
      "no synonyms with: basswood\n",
      "no synonyms with: beech\n",
      "no synonyms with: birch\n",
      "no synonyms with: brazilwood\n",
      "no synonyms with: cedar\n",
      "no synonyms with: cherry\n",
      "no synonyms with: cocobolo\n",
      "no synonyms with: kingwood\n",
      "no synonyms with: lime\n",
      "no synonyms with: mahogany\n",
      "no synonyms with: maple\n",
      "no synonyms with: oak\n",
      "no synonyms with: sycamore\n",
      "no synonyms with: teak\n",
      "no synonyms with: igneous\n",
      "no synonyms with: sedimentary\n",
      "no synonyms with: metamorphic\n",
      "no synonyms with: alabaster\n",
      "no synonyms with: basalt\n",
      "no synonyms with: chert\n",
      "conglomerate ['corporation', 'combine', 'group', 'grouping', 'consortium', 'partnership', 'joint_concern', 'trust', 'merger', 'merged_businesses', 'merged_companies', 'merged_firms']\n",
      "no synonyms with: gneiss\n",
      "no synonyms with: granite\n",
      "no synonyms with: greenstone\n",
      "no synonyms with: limestone\n",
      "no synonyms with: marble\n",
      "no synonyms with: obsidian\n",
      "no synonyms with: phyllite\n",
      "no synonyms with: pumice\n",
      "no synonyms with: quartzite\n",
      "no synonyms with: sandstone\n",
      "slate ['criticize_harshly', 'attack', 'pillory', 'lambaste', 'condemn', 'flay', 'savage', 'shoot_down', 'revile', 'vilify']\n",
      "no synonyms with: tuff\n",
      "no synonyms with: bamboo\n",
      "no synonyms with: bone\n",
      "no synonyms with: ceramic\n",
      "cloth ['fabric', 'material', 'textile', 'stuff']\n",
      "no synonyms with: horn\n",
      "no synonyms with: ivory\n",
      "leather ['skin', 'hide']\n",
      "no synonyms with: rattan\n",
      "no synonyms with: wicker\n",
      "no synonyms with: bate\n",
      "cement ['adhesive', 'glue', 'fixative', 'gum', 'paste', 'bonding', 'binder', 'sealer', 'sealant']\n",
      "daub ['bedaub', 'smear', 'plaster', 'bespatter', 'splash', 'stain', 'spatter', 'splatter', 'cake', 'cover_thickly', 'smother', 'coat', 'deface']\n",
      "no synonyms with: grammercy\n",
      "no synonyms with: multure\n",
      "no synonyms with: rive\n",
      "no synonyms with: wattle\n"
     ]
    }
   ],
   "source": [
    "new_materials_list=list(materials_list)\n",
    "for mat in materials_list:\n",
    "    try:\n",
    "        syn=get_synonyms(mat)\n",
    "    except:\n",
    "        print('no synonyms with:', mat)\n",
    "    else:\n",
    "        print(mat, syn)\n",
    "        new_materials_list+=syn"
   ]
  },
  {
   "cell_type": "code",
   "execution_count": null,
   "metadata": {
    "collapsed": true
   },
   "outputs": [],
   "source": []
  },
  {
   "cell_type": "code",
   "execution_count": null,
   "metadata": {
    "collapsed": true
   },
   "outputs": [],
   "source": []
  },
  {
   "cell_type": "code",
   "execution_count": null,
   "metadata": {
    "collapsed": true
   },
   "outputs": [],
   "source": []
  },
  {
   "cell_type": "code",
   "execution_count": null,
   "metadata": {
    "collapsed": true
   },
   "outputs": [],
   "source": []
  },
  {
   "cell_type": "code",
   "execution_count": null,
   "metadata": {
    "collapsed": true
   },
   "outputs": [],
   "source": []
  }
 ],
 "metadata": {
  "kernelspec": {
   "display_name": "Python 3",
   "language": "python",
   "name": "python3"
  },
  "language_info": {
   "codemirror_mode": {
    "name": "ipython",
    "version": 3
   },
   "file_extension": ".py",
   "mimetype": "text/x-python",
   "name": "python",
   "nbconvert_exporter": "python",
   "pygments_lexer": "ipython3",
   "version": "3.5.3"
  }
 },
 "nbformat": 4,
 "nbformat_minor": 2
}
