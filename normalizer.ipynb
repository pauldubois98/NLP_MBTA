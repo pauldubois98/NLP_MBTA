{
 "cells": [
  {
   "cell_type": "code",
   "execution_count": 7,
   "metadata": {
    "collapsed": true
   },
   "outputs": [],
   "source": [
    "name='shapes'\n",
    "\n",
    "file = open(name+'.txt', 'r')\n",
    "txt = file.read().split('\\n')\n",
    "file.close()\n",
    "\n",
    "ok=[]\n",
    "for c in txt:\n",
    "    if not c in ok:\n",
    "        ok.append(c)\n",
    "\n",
    "txt='\\n'.join(ok)\n",
    "\n",
    "\n",
    "file = open(name+'.txt', 'w')\n",
    "file.write(txt.lower())\n",
    "file.close()"
   ]
  }
 ],
 "metadata": {
  "kernelspec": {
   "display_name": "Python 3",
   "language": "python",
   "name": "python3"
  },
  "language_info": {
   "codemirror_mode": {
    "name": "ipython",
    "version": 3
   },
   "file_extension": ".py",
   "mimetype": "text/x-python",
   "name": "python",
   "nbconvert_exporter": "python",
   "pygments_lexer": "ipython3",
   "version": "3.5.3"
  }
 },
 "nbformat": 4,
 "nbformat_minor": 2
}
