{
 "cells": [
  {
   "cell_type": "code",
   "execution_count": 1,
   "metadata": {},
   "outputs": [],
   "source": [
    "# import libraries\n",
    "import requests\n",
    "from bs4 import BeautifulSoup"
   ]
  },
  {
   "cell_type": "code",
   "execution_count": 2,
   "metadata": {
    "collapsed": true
   },
   "outputs": [],
   "source": [
    "url=\"http://eberronunlimited.wikidot.com/list-of-materials-used-for-construction\""
   ]
  },
  {
   "cell_type": "code",
   "execution_count": 3,
   "metadata": {},
   "outputs": [
    {
     "data": {
      "text/plain": [
       "b'<!DOCTYPE html PUBLIC \"-//W3C//DTD XHTML 1.0 Transitional//EN\" \"http://www.w3.org/TR/xhtml1/DTD/xhtm   [...]'"
      ]
     },
     "execution_count": 3,
     "metadata": {},
     "output_type": "execute_result"
    }
   ],
   "source": [
    "page = requests.get(url)\n",
    "page.content[:100]+b'   [...]'"
   ]
  },
  {
   "cell_type": "code",
   "execution_count": 4,
   "metadata": {},
   "outputs": [
    {
     "name": "stdout",
     "output_type": "stream",
     "text": [
      "<!DOCTYPE html PUBLIC \"-//W3C//DTD XHTML 1.0 Transitional//EN\" \"http://www.w3.org/TR/xhtml1/DTD/xhtml1-transitional.dtd\">\n",
      "<html lang=\"en\" xml:lang=\"en\" xmlns=\"http://www.w3.org/1999/xhtml\">\n",
      " <head>\n",
      "  <title>\n",
      "   List Of Materials Used For Construction - Eberron Unlimited\n",
      "  </title>\n",
      "  <script type=\"text/javascript\">\n",
      "   var googletag = googletag || {};\n",
      "googletag.cmd = googletag.cmd || [];\n",
      "(function() {\n",
      "var gads = document.createElement('script');\n",
      "gads.async = true;\n",
      "gads.type = 'text/javascript';\n",
      "var useSSL = 'https:' == document.location.protocol;\n",
      "gads.src = (useSSL ? 'https:' : 'http:') + \n",
      "'//www.googletagservices.com/tag/js/gpt.js';\n",
      "var node = document.getElementsByTagName('script')[0];\n",
      "node.parentNode.insertBefore(gads, node);\n",
      "})();\n",
      "  </script>\n",
      "  <script type=\"text/javascript\">\n",
      "   googletag.cmd.push(function() {\n",
      "    // DEFINE DFP SLOTS\n",
      "googletag.defineSlot('/1030917/wikidot_free_sites_top_728x90', [728, 90], 'div-gpt-ad-1410946564449-1').addService(googletag.pubads());\n",
      "googletag.define\n"
     ]
    }
   ],
   "source": [
    "soup = BeautifulSoup(page.content, 'html.parser')\n",
    "print(soup.prettify()[:1000])"
   ]
  },
  {
   "cell_type": "code",
   "execution_count": 5,
   "metadata": {},
   "outputs": [
    {
     "name": "stdout",
     "output_type": "stream",
     "text": [
      "Adobe; Brick; Matting; Sod; Stone; Timber; Wattle; Aluminum; Antimony; Bismuth; cobalt; Brass; copper; zinc; Bronze; Copper; Electrum; Gold; Iron; nickel; cobalt; Latten; Lead; Lodestone; Magnesium; Mercury; Nickel; Pewter; Platinum; Silver; Steel; Tin; Titanium; Zinc; Platinum; Gold; Electrum; Silver; Nickel; Copper; Bronze; Adamantite; Adamantium; Mithril; Oracalc; Oracalcum; Tilferium; Xagium; Adamantite; Mithril; Oracalcum; Tilferium; Xagium; Alder; Balsa; Basswood; Beech; Birch; Brazilwood; Cedar; Cherry; Cocobolo; Kingwood; Lime; Mahogany; Maple; Oak; Sycamore; Teak; Igneous; Sedimentary; Metamorphic; Alabaster; Basalt; Chert; Conglomerate; Gneiss; Granite; Greenstone; Limestone; Marble; Obsidian; Phyllite; Pumice; Quartzite; Sandstone; Slate; Tuff; Bamboo; Bone; Ceramic; Cloth; Horn; Ivory; Leather; Rattan; Wicker; Bate; Cement; Daub; Grammercy; Multure; Rive; Wattle; "
     ]
    }
   ],
   "source": [
    "may_be = soup.find_all('strong')\n",
    "\n",
    "materials=[]\n",
    "for item in may_be:\n",
    "    txt=item.get_text()\n",
    "    if not ' ' in txt and not ':' in txt:\n",
    "        if '/' in txt:\n",
    "            txt1, txt2 = txt.split('/')\n",
    "            print(txt1, end='; ')\n",
    "            materials.append(txt1.lower())\n",
    "            print(txt2, end='; ')\n",
    "            materials.append(txt2.lower())\n",
    "        else:\n",
    "            print(txt, end='; ')\n",
    "            materials.append(txt.lower())"
   ]
  },
  {
   "cell_type": "code",
   "execution_count": 6,
   "metadata": {},
   "outputs": [
    {
     "data": {
      "text/plain": [
       "'adobe,brick,matting,sod,stone,timber,wattle,aluminum,antimony,bismuth,cobalt,brass,copper,zinc,bronze,copper,electrum,gold,iron,nickel,cobalt,latten,lead,lodestone,magnesium,mercury,nickel,pewter,platinum,silver,steel,tin,titanium,zinc,platinum,gold,electrum,silver,nickel,copper,bronze,adamantite,adamantium,mithril,oracalc,oracalcum,tilferium,xagium,adamantite,mithril,oracalcum,tilferium,xagium,alder,balsa,basswood,beech,birch,brazilwood,cedar,cherry,cocobolo,kingwood,lime,mahogany,maple,oak,sycamore,teak,igneous,sedimentary,metamorphic,alabaster,basalt,chert,conglomerate,gneiss,granite,greenstone,limestone,marble,obsidian,phyllite,pumice,quartzite,sandstone,slate,tuff,bamboo,bone,ceramic,cloth,horn,ivory,leather,rattan,wicker,bate,cement,daub,grammercy,multure,rive,wattle'"
      ]
     },
     "execution_count": 6,
     "metadata": {},
     "output_type": "execute_result"
    }
   ],
   "source": [
    "to_write = ','.join(materials)\n",
    "to_write"
   ]
  },
  {
   "cell_type": "code",
   "execution_count": 7,
   "metadata": {
    "collapsed": true
   },
   "outputs": [],
   "source": [
    "file=open('materials.txt', 'w')\n",
    "file.write(to_write)\n",
    "file.close()"
   ]
  }
 ],
 "metadata": {
  "kernelspec": {
   "display_name": "Python 3",
   "language": "python",
   "name": "python3"
  },
  "language_info": {
   "codemirror_mode": {
    "name": "ipython",
    "version": 3
   },
   "file_extension": ".py",
   "mimetype": "text/x-python",
   "name": "python",
   "nbconvert_exporter": "python",
   "pygments_lexer": "ipython3",
   "version": "3.5.3"
  }
 },
 "nbformat": 4,
 "nbformat_minor": 2
}
